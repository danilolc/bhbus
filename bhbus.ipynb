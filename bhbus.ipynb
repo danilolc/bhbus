{
 "cells": [
  {
   "cell_type": "markdown",
   "metadata": {},
   "source": [
    "# Código para acessar as previsões dos ônibus de Belo Horizonte\n"
   ]
  },
  {
   "cell_type": "code",
   "execution_count": 1,
   "metadata": {},
   "outputs": [],
   "source": [
    "import requests\n",
    "import json\n",
    "from collections import namedtuple\n",
    "import sys\n",
    "from RenderJSON import RenderJSON"
   ]
  },
  {
   "cell_type": "markdown",
   "metadata": {},
   "source": [
    "Link da API:"
   ]
  },
  {
   "cell_type": "code",
   "execution_count": 3,
   "metadata": {},
   "outputs": [],
   "source": [
    "pbh_link = 'http://mobile-l.sitbus.com.br:6060/siumobile-ws-v01/rest/ws/'"
   ]
  },
  {
   "cell_type": "code",
   "execution_count": 72,
   "metadata": {},
   "outputs": [],
   "source": [
    "#Retorna as previsões de uma dada estação\n",
    "def previsoes(cod):\n",
    "    prev = requests.get(pbh_link + 'buscarPrevisoes/' + str(cod) + '/0/retornoJSON')\n",
    "    prev = prev.content.replace('retornoJSON(', '')[:-1]\n",
    "    #prev = decode(prev)\n",
    "    return prev"
   ]
  },
  {
   "cell_type": "code",
   "execution_count": 67,
   "metadata": {
    "scrolled": false
   },
   "outputs": [
    {
     "name": "stdout",
     "output_type": "stream",
     "text": [
      "Linhas:\n"
     ]
    },
    {
     "data": {
      "text/html": [
       "<div id=\"852f703c-143c-4c09-919a-86f95958b8bd\" style=\"height: auto; width:100%;\"></div>"
      ],
      "text/plain": [
       "<IPython.core.display.HTML object>"
      ]
     },
     "metadata": {},
     "output_type": "display_data"
    },
    {
     "data": {
      "text/html": [
       "<script>\n",
       "        require(['https://rawgit.com/caldwell/renderjson/master/renderjson.js'],\n",
       "        function() {\n",
       "          renderjson.set_show_to_level(1)\n",
       "          document.getElementById('852f703c-143c-4c09-919a-86f95958b8bd').appendChild(renderjson({\"sucesso\": true, \"linhas\": [{\"cod\": \"5\", \"sgl\": \"101\", \"nom\": \"AGLOMERADO SANTA LUCIA\"}, {\"cod\": \"7\", \"sgl\": \"102\", \"nom\": \"NOSSA SENHORA DE FATIMA/HOSPITAL EVANGELICO\"}, {\"cod\": \"9\", \"sgl\": \"103\", \"nom\": \"VILA CAFEZAL/RUA POUSO ALTO\"}, {\"cod\": \"11\", \"sgl\": \"1030\", \"nom\": \"AVENIDA\"}, {\"cod\": \"869\", \"sgl\": \"104\", \"nom\": \"AVENIDA\"}, {\"cod\": \"1420\", \"sgl\": \"105\", \"nom\": \"ESTA\\u00c7\\u00c3O CENTRAL/LOURDES\"}, {\"cod\": \"2116\", \"sgl\": \"107\", \"nom\": \"VILA MAR\\u00c7OLA / RUA DO OURO\"}, {\"cod\": \"32\", \"sgl\": \"1145\", \"nom\": \"BAIRRO DAS INDUSTRIAS\"}, {\"cod\": \"42\", \"sgl\": \"1170\", \"nom\": \"SANTA LUCIA/MANGABEIRAS\"}, {\"cod\": \"53\", \"sgl\": \"1404A\", \"nom\": \"PALMEIRAS/ALIPIO DE MELO\"}, {\"cod\": \"56\", \"sgl\": \"1404B\", \"nom\": \"ESTRELA DO ORIENTE / JARDIM INCONFIDENCIA\"}, {\"cod\": \"58\", \"sgl\": \"1404C\", \"nom\": \"PALMEIRAS / SAO SALVADOR\"}, {\"cod\": \"65\", \"sgl\": \"1502\", \"nom\": \"VISTA ALEGRE / GUARANI\"}, {\"cod\": \"67\", \"sgl\": \"1505\", \"nom\": \"ALTO DOS PINHEIROS/TUPI\"}, {\"cod\": \"71\", \"sgl\": \"1505R\", \"nom\": \"CENTRO/CONJUNTO FELICIDADE\"}, {\"cod\": \"75\", \"sgl\": \"1509\", \"nom\": \"CALIFORNIA/TUPI\"}, {\"cod\": \"78\", \"sgl\": \"1510\", \"nom\": \"MADRE GERTRUDES/PROVIDENCIA\"}, {\"cod\": \"80\", \"sgl\": \"201\", \"nom\": \"MORRO DAS PEDRAS\"}, {\"cod\": \"83\", \"sgl\": \"202\", \"nom\": \"ESTACAO VILA OESTE\"}, {\"cod\": \"85\", \"sgl\": \"203\", \"nom\": \"MORRO DAS PEDRAS/VENTOSA\"}, {\"cod\": \"5627\", \"sgl\": \"2033\", \"nom\": \"BET\\u00c2NIA / CENTRO\"}, {\"cod\": \"5629\", \"sgl\": \"2034\", \"nom\": \"CONJUNTO BET\\u00c2NIA / CENTRO\"}, {\"cod\": \"5631\", \"sgl\": \"2035\", \"nom\": \"BAIRRO DAS IND\\u00daSTRIAS / CENTRO\"}, {\"cod\": \"87\", \"sgl\": \"204\", \"nom\": \"ESTACAO VILA OESTE / NOVA GAMELEIRA\"}, {\"cod\": \"871\", \"sgl\": \"205\", \"nom\": \"METRO CALAFATE/ BURITIS\"}, {\"cod\": \"2555\", \"sgl\": \"206\", \"nom\": \"CIRCULAR OESTE\"}, {\"cod\": \"6639\", \"sgl\": \"208\", \"nom\": \"BET\\u00c2NIA/BARREIRO VIA NOVO DAS INDUSTRIAS\"}, {\"cod\": \"89\", \"sgl\": \"2101\", \"nom\": \"GRAJAU/SION\"}, {\"cod\": \"92\", \"sgl\": \"2102\", \"nom\": \"GAMELEIRA / SERRA\"}, {\"cod\": \"96\", \"sgl\": \"2103\", \"nom\": \"PRADO/ANCHIETA\"}, {\"cod\": \"99\", \"sgl\": \"2104\", \"nom\": \"NOVA GAMELEIRA/BH SHOPPING\"}, {\"cod\": \"104\", \"sgl\": \"2150\", \"nom\": \"GRAJAU/SION VIA CONTORNO\"}, {\"cod\": \"106\", \"sgl\": \"2151\", \"nom\": \"VISTA ALEGRE/SERRA\"}, {\"cod\": \"108\", \"sgl\": \"2152\", \"nom\": \"SALGADO FILHO/CRUZEIRO\"}, {\"cod\": \"205\", \"sgl\": \"30\", \"nom\": \"ESTACAO DIAMANTE/CENTRO\"}, {\"cod\": \"220\", \"sgl\": \"301\", \"nom\": \"EST. DIAMANTE/NOVO STA CEC\\u00cdLIA VIA BR INDUSTRIAL\"}, {\"cod\": \"224\", \"sgl\": \"302\", \"nom\": \"ESTA\\u00c7\\u00c3O DIAMANTE / VILA PINHO\"}, {\"cod\": \"4017\", \"sgl\": \"3029\", \"nom\": \"REGINA / CENTRO\"}, {\"cod\": \"228\", \"sgl\": \"303\", \"nom\": \"SANTA CECILIA/CASTANHEIRAS\"}, {\"cod\": \"5712\", \"sgl\": \"3030\", \"nom\": \"PILAR - OLHOS D \\u00c1GUA / CENTRO\"}, {\"cod\": \"231\", \"sgl\": \"304\", \"nom\": \"EST. DIAMANTE / JATOBA IV\"}, {\"cod\": \"233\", \"sgl\": \"305\", \"nom\": \"MANGUEIRAS\"}, {\"cod\": \"237\", \"sgl\": \"3050\", \"nom\": \"ESTACAO DIAMANTE/HOSPITAL VIA BH SHOPPING\"}, {\"cod\": \"242\", \"sgl\": \"3051\", \"nom\": \"FLAVIO MARQUES LISBOA / SAVASSI VIA N.S.CARMO\"}, {\"cod\": \"244\", \"sgl\": \"3052\", \"nom\": \"EST.DIAMANTE/BH SHOP.- HAVAI\"}, {\"cod\": \"903\", \"sgl\": \"3053\", \"nom\": \"EST.BARREIRO/BARRO PRETO-AMAZONAS\"}, {\"cod\": \"906\", \"sgl\": \"3054\", \"nom\": \"MILIONARIOS/CENTRO\"}, {\"cod\": \"1113\", \"sgl\": \"3055\", \"nom\": \"ESTACAO BARREIRO/SAVASSI VIA BHSHOPPING\"}, {\"cod\": \"248\", \"sgl\": \"308\", \"nom\": \"TIROL\"}, {\"cod\": \"252\", \"sgl\": \"309\", \"nom\": \"BAIRRO PETROPOLIS\"}, {\"cod\": \"259\", \"sgl\": \"310\", \"nom\": \"3 E 4 SECAO\"}, {\"cod\": \"263\", \"sgl\": \"311\", \"nom\": \"MORADA DA SERRA\"}, {\"cod\": \"265\", \"sgl\": \"313\", \"nom\": \"DIAMANTE/OLARIA\"}, {\"cod\": \"267\", \"sgl\": \"314\", \"nom\": \"SANTA HELENA/TEIXEIRA DIAS\"}, {\"cod\": \"925\", \"sgl\": \"315\", \"nom\": \"BARREIRO / ESTA\\u00c7\\u00c3O BARREIRO\"}, {\"cod\": \"4019\", \"sgl\": \"3150\", \"nom\": \"REGINA-LIND\\u00c9IA/ BH SHOPP- ANEL\"}, {\"cod\": \"274\", \"sgl\": \"318\", \"nom\": \"EST. BARR./J.LIBERDADE VIA MILIONARIOS\"}, {\"cod\": \"279\", \"sgl\": \"319\", \"nom\": \"VILA CEMIG/CONJ.ESPERANCA\"}, {\"cod\": \"928\", \"sgl\": \"32\", \"nom\": \"ESTA\\u00c7\\u00c3O BARREIRO / CENTRO- TAMOIOS\"}, {\"cod\": \"282\", \"sgl\": \"320\", \"nom\": \"ESCOLA ESTADUAL AMARO NEVES\"}, {\"cod\": \"284\", \"sgl\": \"321\", \"nom\": \"OLHOS D AGUA / PILAR\"}, {\"cod\": \"912\", \"sgl\": \"325\", \"nom\": \"FLAVIO MARQUES/ ESTA\\u00c7\\u00c3O BARREIRO\"}, {\"cod\": \"916\", \"sgl\": \"326\", \"nom\": \"VALE DO JATOBA / ESTA\\u00c7\\u00c3O BARREIRO\"}, {\"cod\": \"918\", \"sgl\": \"327\", \"nom\": \"CARDOSO A / ESTA\\u00c7\\u00c3O BARREIRO\"}, {\"cod\": \"921\", \"sgl\": \"328\", \"nom\": \"CARDOSO B / ESTA\\u00c7\\u00c3O BARREIRO\"}, {\"cod\": \"923\", \"sgl\": \"329\", \"nom\": \"JATOBA / ESTA\\u00c7\\u00c3O BARREIRO\"}, {\"cod\": \"897\", \"sgl\": \"33\", \"nom\": \"ESTA\\u00c7\\u00c3O BARREIRO/ CENTRO- HOSPITAIS\"}, {\"cod\": \"933\", \"sgl\": \"330\", \"nom\": \"INDEPENDENCIA / ESTA\\u00c7\\u00c3O BARREIRO\"}, {\"cod\": \"287\", \"sgl\": \"3301A\", \"nom\": \"SANTA TEREZINHA\"}, {\"cod\": \"289\", \"sgl\": \"3301B\", \"nom\": \"CASTELO\"}, {\"cod\": \"291\", \"sgl\": \"3302A\", \"nom\": \"NOVA PAMPULHA VIA ITAMARATI\"}, {\"cod\": \"295\", \"sgl\": \"3302B\", \"nom\": \"BRA\\u00daNAS VIA ITAMARATI\"}, {\"cod\": \"298\", \"sgl\": \"3302D\", \"nom\": \"BRAUNAS\"}, {\"cod\": \"935\", \"sgl\": \"331\", \"nom\": \" ESTA\\u00c7\\u00c3O BARREIRO/CONJ. ANT. TEIXEIRA DIAS VIA UPA\"}, {\"cod\": \"937\", \"sgl\": \"332\", \"nom\": \" ESTA\\u00c7\\u00c3O BARREIRO /  MILIONARIOS - BONSUCESSO\"}, {\"cod\": \"1318\", \"sgl\": \"335\", \"nom\": \"ESTA\\u00c7\\u00c3O BARREIRO/LIND\\u00c9IA\"}, {\"cod\": \"909\", \"sgl\": \"3350\", \"nom\": \"ESTA\\u00c7\\u00c3O BARREIRO/ ESTA\\u00c7\\u00c3O DIAMANTE\"}, {\"cod\": \"2185\", \"sgl\": \"336\", \"nom\": \"HOSP.EDU.MENEZES/VILA BERNADETE\"}, {\"cod\": \"3996\", \"sgl\": \"337\", \"nom\": \"ESTA\\u00c7\\u00c3O BARREIRO / ITAIP\\u00da\"}, {\"cod\": \"968\", \"sgl\": \"34\", \"nom\": \"ESTA\\u00c7\\u00c3O BARREIRO / VIA EXPRESSA \"}, {\"cod\": \"4014\", \"sgl\": \"340\", \"nom\": \"ESTA\\u00c7\\u00c3O BARREIRO /  VILA MANGUEIRA\"}, {\"cod\": \"3994\", \"sgl\": \"341\", \"nom\": \"ESTA\\u00c7\\u00c3O BARREIRO / ESTA\\u00c7\\u00c3O DIAMANTE VIA SA\\u00daDE\"}, {\"cod\": \"3998\", \"sgl\": \"342\", \"nom\": \"ESTA\\u00c7\\u00c3O BARREIRO / SOLAR VIA ESTA\\u00c7\\u00c3O  DIAMANTE  \"}, {\"cod\": \"985\", \"sgl\": \"35\", \"nom\": \"ESTA\\u00c7\\u00c3O BARREIRO/ CENTRO - VIA SANTOS DUMONT\"}, {\"cod\": \"754\", \"sgl\": \"3501A\", \"nom\": \"JARDIM ALVORADA/SAO MARCOS\"}, {\"cod\": \"302\", \"sgl\": \"3501B\", \"nom\": \"OURO PRETO 3A GLEBA/BAIRRO IPE VIA JD. MONTANHES\"}, {\"cod\": \"304\", \"sgl\": \"3502\", \"nom\": \"OURO PRETO/SAO GABRIEL\"}, {\"cod\": \"306\", \"sgl\": \"3503A\", \"nom\": \"SANTA TEREZINHA/SAO GABRIEL\"}, {\"cod\": \"311\", \"sgl\": \"401\", \"nom\": \"METRO CID.INDUSTRIAL/S.MARIA\"}, {\"cod\": \"314\", \"sgl\": \"402\", \"nom\": \"METRO CID.INDUSTRIAL/CAMARGOS\"}, {\"cod\": \"961\", \"sgl\": \"4031\", \"nom\": \"SANTA MARIA / HOSPITAIS\"}, {\"cod\": \"325\", \"sgl\": \"4032\", \"nom\": \"CAICARA /SAVASSI/ PCA. DA LIBERDADE\"}, {\"cod\": \"328\", \"sgl\": \"4033\", \"nom\": \"CAMARGOS/CENTRO\"}, {\"cod\": \"330\", \"sgl\": \"4034\", \"nom\": \"NOVO DOM BOSCO / SAVASSI VIA PADRE EUSTAQUIO\"}, {\"cod\": \"5715\", \"sgl\": \"4037\", \"nom\": \"NOSSA SENHORA DA GL\\u00d3RIA / CENTRO\"}, {\"cod\": \"5705\", \"sgl\": \"406\", \"nom\": \"ESTA\\u00c7\\u00c3O PTO S\\u00c3O JOS\\u00c9/PINDORAMA - VIA N.SRA GL\\u00d3RIA\"}, {\"cod\": \"733\", \"sgl\": \"4102\", \"nom\": \"APARECIDA/SERRA\"}, {\"cod\": \"333\", \"sgl\": \"4103\", \"nom\": \"APARECIDA/MANGABEIRAS\"}, {\"cod\": \"336\", \"sgl\": \"4106\", \"nom\": \"SAO CRISTOVAO/SANTO ANTONIO\"}, {\"cod\": \"339\", \"sgl\": \"4107\", \"nom\": \"ALTO CAICARA/SERRA\"}, {\"cod\": \"344\", \"sgl\": \"4108\", \"nom\": \"PEDRO II / MANGABEIRAS\"}, {\"cod\": \"736\", \"sgl\": \"4110\", \"nom\": \"DOM CABRAL/FAC. MILTON CAMPOS VIA BELVEDERE\"}, {\"cod\": \"738\", \"sgl\": \"4111\", \"nom\": \"DOM CABRAL/ANCHIETA\"}, {\"cod\": \"347\", \"sgl\": \"4113\", \"nom\": \"BOM JESUS/BELVEDERE\"}, {\"cod\": \"742\", \"sgl\": \"4114\", \"nom\": \"BONFIM / CENTRO\"}, {\"cod\": \"350\", \"sgl\": \"4150\", \"nom\": \"SHOPPING DEL REY/BH SHOPPING\"}, {\"cod\": \"352\", \"sgl\": \"4201\", \"nom\": \"ALTO CAICARA/NOVA CINTRA\"}, {\"cod\": \"354\", \"sgl\": \"4205\", \"nom\": \"ERMELINDA/SALGADO FILHO\"}, {\"cod\": \"356\", \"sgl\": \"4403A\", \"nom\": \"ZOOLOGICO VIA SERRANO\"}, {\"cod\": \"359\", \"sgl\": \"4403C\", \"nom\": \"RESIDENCIAL SARANDI\"}, {\"cod\": \"361\", \"sgl\": \"4403D\", \"nom\": \"URCA-CONFISCO\"}, {\"cod\": \"363\", \"sgl\": \"4405\", \"nom\": \"COQUEIROS\"}, {\"cod\": \"367\", \"sgl\": \"4410\", \"nom\": \"SERRANO\"}, {\"cod\": \"371\", \"sgl\": \"4501\", \"nom\": \"CALIFORNIA II / SAO PAULO\"}, {\"cod\": \"373\", \"sgl\": \"4801A\", \"nom\": \"JARDIM FILADELFIA/BOA VISTA A\"}, {\"cod\": \"375\", \"sgl\": \"4802A\", \"nom\": \"PINDORAMA/BOA VISTA\"}, {\"cod\": \"5482\", \"sgl\": \"50\", \"nom\": \"EST. PAMPULHA/CENTRO-DIRETA\"}, {\"cod\": \"379\", \"sgl\": \"503\", \"nom\": \"ESTA\\u00c7\\u00c3O S\\u00c3O GABRIEL/APARECIDA/SANTA ROSA\"}, {\"cod\": \"385\", \"sgl\": \"5031\", \"nom\": \"SUZANA/UNIVERSITARIO/PCA DA LIBERDADE\"}, {\"cod\": \"7120\", \"sgl\": \"5033\", \"nom\": \"STA TEREZINHA/P\\u00c7A. DA LIBERDADE VIA TANC. NEVES \"}, {\"cod\": \"388\", \"sgl\": \"504\", \"nom\": \"ESTA\\u00c7\\u00c3O S\\u00c3O GABRIEL/SANTA ROSA/APARECIDA\"}, {\"cod\": \"5320\", \"sgl\": \"506\", \"nom\": \"ESTA\\u00c7\\u00c3O PONTO S\\u00c3O JOS\\u00c9 / AV. ANT\\u00d4NIO CARLOS\"}, {\"cod\": \"3699\", \"sgl\": \"507\", \"nom\": \"OURO PRETO / SHOPPING DEL REY\"}, {\"cod\": \"5562\", \"sgl\": \"51\", \"nom\": \"EST.PAMPULHA/CENTRO/HOSPITAIS\"}, {\"cod\": \"5561\", \"sgl\": \"510\", \"nom\": \"EST.PAMPULHA/TREVO VIA GAR\\u00c7AS\"}, {\"cod\": \"390\", \"sgl\": \"5101\", \"nom\": \"SUZANA/CRUZEIRO\"}, {\"cod\": \"393\", \"sgl\": \"5102\", \"nom\": \"UFMG/SANTO ANTONIO\"}, {\"cod\": \"7078\", \"sgl\": \"5104\", \"nom\": \"SUZANA/CRUZEIRO-VIA UNIVERSIT\\u00c1RIO  \"}, {\"cod\": \"5699\", \"sgl\": \"5106\", \"nom\": \"BANDEIRANTES/BH SHOPPING\"}, {\"cod\": \"7139\", \"sgl\": \"5107\", \"nom\": \"ESTA\\u00c7\\u00c3O PAMPULHA/SAVASSI\"}, {\"cod\": \"5707\", \"sgl\": \"511\", \"nom\": \"ESTA\\u00c7\\u00c3O PONTO S\\u00c3O JOS\\u00c9 / JARDIM ALVORADA\"}, {\"cod\": \"5568\", \"sgl\": \"52\", \"nom\": \"EST. PAMPULHA / AV. ANTONIO CARLOS\"}, {\"cod\": \"399\", \"sgl\": \"5201\", \"nom\": \"DONA CLARA/BURITIS\"}, {\"cod\": \"7118\", \"sgl\": \"5203\", \"nom\": \"CASTELO/ESTRELA DO ORIENTE VIA MANAC\\u00c1S \"}, {\"cod\": \"5617\", \"sgl\": \"5250\", \"nom\": \"EST. PAMPULHA / BETANIA\"}, {\"cod\": \"3701\", \"sgl\": \"533\", \"nom\": \"CASTELO / SHOPPING DEL REY\"}, {\"cod\": \"3703\", \"sgl\": \"535\", \"nom\": \"XANGRIL\\u00c1 VIA ITAMARATI / SHOPPING DEL REY\"}, {\"cod\": \"401\", \"sgl\": \"5401\", \"nom\": \"SAO LUIS/DOM CABRAL\"}, {\"cod\": \"5818\", \"sgl\": \"55\", \"nom\": \"MOVE MINEIR\\u00c3O\"}, {\"cod\": \"762\", \"sgl\": \"5502C\", \"nom\": \"POUSADA SANTO ANTONIO\"}, {\"cod\": \"403\", \"sgl\": \"5503A\", \"nom\": \"GOIANIA A\"}, {\"cod\": \"408\", \"sgl\": \"5503B\", \"nom\": \"GOIANIA B\"}, {\"cod\": \"415\", \"sgl\": \"5506A\", \"nom\": \"RIBEIRO DE ABREU\"}, {\"cod\": \"5674\", \"sgl\": \"5550\", \"nom\": \"EST. PAMPULHA / EST.S\\u00c3O JOS\\u00c9\"}, {\"cod\": \"5816\", \"sgl\": \"6030\", \"nom\": \"CIDADE ADMINISTRATIVA/SAVASSI - VIA HOSPITAIS\"}, {\"cod\": \"6142\", \"sgl\": \"6031\", \"nom\": \"CIDADE ADMINISTRATIVA/CENTRO\"}, {\"cod\": \"767\", \"sgl\": \"607\", \"nom\": \"ESPLENDOR / JAQUELINE\"}, {\"cod\": \"489\", \"sgl\": \"608\", \"nom\": \"ESTA\\u00c7\\u00c3O VENDA NOVA/NOVA PAMPULHA\"}, {\"cod\": \"492\", \"sgl\": \"609\", \"nom\": \"SERRA VERDE/SANTA MONICA\"}, {\"cod\": \"494\", \"sgl\": \"61\", \"nom\": \"EST. VENDA NOVA/CENTRO-DIRETA\"}, {\"cod\": \"5565\", \"sgl\": \"614\", \"nom\": \"ESTA\\u00c7\\u00c3O PAMPULHA / C\\u00c9U AZUL A\"}, {\"cod\": \"5571\", \"sgl\": \"615\", \"nom\": \"ESTA\\u00c7\\u00c3O PAMPULHA / C\\u00c9U AZUL B\"}, {\"cod\": \"5573\", \"sgl\": \"616\", \"nom\": \"ESTA\\u00c7\\u00c3O PAMPULHA / C\\u00c9U AZUL C\"}, {\"cod\": \"5599\", \"sgl\": \"617\", \"nom\": \"ESTA\\u00c7\\u00c3O PAMPULHA/PIRATININGA VIA RIO BRANCO\"}, {\"cod\": \"5576\", \"sgl\": \"618\", \"nom\": \"ESTA\\u00c7\\u00c3O PAMPULHA/RIO BRANCO VIA JARDIM LEBLON\"}, {\"cod\": \"5604\", \"sgl\": \"619\", \"nom\": \"ESTA\\u00c7\\u00c3O PAMPULHA/SANTA M\\u00d4NICA VIA SANTA BRANCA\"}, {\"cod\": \"501\", \"sgl\": \"62\", \"nom\": \"EST.VENDA NOVA/SAVASSI-HOSPITAIS\"}, {\"cod\": \"5606\", \"sgl\": \"620\", \"nom\": \"ESTA\\u00c7\\u00c3O PAMPULHA/SANTA M\\u00d4NICA VIA SANTA AM\\u00c9LIA\"}, {\"cod\": \"504\", \"sgl\": \"621\", \"nom\": \"LAGOA/ESTACAO VENDA NOVA\"}, {\"cod\": \"507\", \"sgl\": \"622\", \"nom\": \"LAGOINHA/ESTACAO VENDA NOVA\"}, {\"cod\": \"512\", \"sgl\": \"623\", \"nom\": \"VILA SANTA BRANCA/ESTACAO VENDA NOVA\"}, {\"cod\": \"515\", \"sgl\": \"624\", \"nom\": \"MARIA HELENA A/ESTACAO VENDA NOVA\"}, {\"cod\": \"520\", \"sgl\": \"625\", \"nom\": \"MARIA HELENA B/ESTACAO VENDA NOVA\"}, {\"cod\": \"525\", \"sgl\": \"626\", \"nom\": \"ESTA\\u00c7\\u00c3O VENDA NOVA/ ESPLENDOR - VIA NOVA AMERICA\"}, {\"cod\": \"531\", \"sgl\": \"627\", \"nom\": \"ESTA\\u00c7\\u00c3O VENDA NOVA / MANTIQUEIRA\"}, {\"cod\": \"540\", \"sgl\": \"63\", \"nom\": \"EST.VENDA NOVA/LAGOINHA\"}, {\"cod\": \"543\", \"sgl\": \"630\", \"nom\": \"ESTA\\u00c7\\u00c3O VILARINHO/SERRA VERDE - VIA  AV.SALAMANCA\"}, {\"cod\": \"545\", \"sgl\": \"631\", \"nom\": \"ESTA\\u00c7\\u00c3O VILARINHO / SERRA VERDE - VIA MINAS CAIXA\"}, {\"cod\": \"547\", \"sgl\": \"633\", \"nom\": \"ESTA\\u00c7\\u00c3O VILARINHO / JARDIM DOS COMERCIARIOS\"}, {\"cod\": \"1904\", \"sgl\": \"634\", \"nom\": \"EST. VILARINHO / NOVA  YORK - VIA  J. COMERCI\\u00c1RIOS\"}, {\"cod\": \"1906\", \"sgl\": \"635\", \"nom\": \"ESTA\\u00c7\\u00c3O VILARINHO / JARDIM DOS COMERCI\\u00c1RIOS C\"}, {\"cod\": \"4022\", \"sgl\": \"6350\", \"nom\": \"EST.VILAR./EST.BARREIRO-VIA ANEL\"}, {\"cod\": \"1908\", \"sgl\": \"636\", \"nom\": \"ESTA\\u00c7\\u00c3O VILARINHO / JARDIM EUROPA \"}, {\"cod\": \"1862\", \"sgl\": \"637\", \"nom\": \" EST.VILARINHO/CANA\\u00c3 - VIA SERRA VERDE\"}, {\"cod\": \"3748\", \"sgl\": \"638\", \"nom\": \"ESTA\\u00c7\\u00c3O VILARINHO / MINAS CAIXA\"}, {\"cod\": \"3705\", \"sgl\": \"639\", \"nom\": \"BRAUNAS / SHOPPING DEL REY\"}, {\"cod\": \"549\", \"sgl\": \"64\", \"nom\": \"EST.V.NOVA/ASSEMB.VIA CARLOS LUZ\"}, {\"cod\": \"1910\", \"sgl\": \"640\", \"nom\": \"ESTA\\u00c7\\u00c3O VENDA NOVA/JARDIM LEBLON VIA RIO BRANCO \"}, {\"cod\": \"3895\", \"sgl\": \"641\", \"nom\": \"ESTA\\u00c7\\u00c3O VILARINHO /  SERRA VERDE\"}, {\"cod\": \"4179\", \"sgl\": \"642\", \"nom\": \"EST.V.NOVA/EST.VILAR./CID.ADM.\"}, {\"cod\": \"5579\", \"sgl\": \"643\", \"nom\": \"ESTA\\u00c7\\u00c3O PAMPULHA/COPACABANA - VIA MONTE CARMELO\"}, {\"cod\": \"5608\", \"sgl\": \"644\", \"nom\": \"ESTA\\u00c7\\u00c3O PAMPULHA/S\\u00c3O JO\\u00c3O BATISTA\"}, {\"cod\": \"5582\", \"sgl\": \"645\", \"nom\": \"EST. PAMPULHA /SANTA M\\u00d4NICA - VIA JARDIM ATL\\u00c2NTICO\"}, {\"cod\": \"3739\", \"sgl\": \"65\", \"nom\": \"EST.VILAR./CENTRO-A.CARLOS/DIRETA\"}, {\"cod\": \"4234\", \"sgl\": \"66\", \"nom\": \"EST. VILARINHO/CENTRO/HOSP/VIA C.MACHADO\"}, {\"cod\": \"4660\", \"sgl\": \"67\", \"nom\": \"EST.VILAR./STO AGOST./AV.CARLOS LUZ\"}, {\"cod\": \"5776\", \"sgl\": \"68\", \"nom\": \"EST. VILARINHO / LAGOINHA\"}, {\"cod\": \"557\", \"sgl\": \"702\", \"nom\": \"ESTA\\u00c7\\u00c3O S\\u00c3O GABRIEL/XODO-MARIZE\"}, {\"cod\": \"1622\", \"sgl\": \"703\", \"nom\": \"ESTA\\u00c7\\u00c3O S\\u00c3O GABRIEL/GUARANI\"}, {\"cod\": \"802\", \"sgl\": \"705\", \"nom\": \"ESTACAO SAO GABRIEL/SAO TOMAZ\"}, {\"cod\": \"806\", \"sgl\": \"706\", \"nom\": \"ESTACAO SAO GABRIEL/ HELIOPOLIS\"}, {\"cod\": \"809\", \"sgl\": \"707\", \"nom\": \"ESTACAO SAO GABRIEL/JARDIM GUANABARA\"}, {\"cod\": \"812\", \"sgl\": \"708\", \"nom\": \"EST. SAO GABRIEL / FELICIDADE\"}, {\"cod\": \"3674\", \"sgl\": \"709\", \"nom\": \"ESTA\\u00c7\\u00c3O S\\u00c3O GABRIEL/TUPI\"}, {\"cod\": \"3680\", \"sgl\": \"710\", \"nom\": \"ESTA\\u00c7\\u00c3O S\\u00c3O GABRIEL/PROVID\\u00caNCIA\"}, {\"cod\": \"843\", \"sgl\": \"711\", \"nom\": \"ESTACAO SAO GABRIEL/SOLIMOES\"}, {\"cod\": \"5709\", \"sgl\": \"712\", \"nom\": \"ESTA\\u00c7\\u00c3O PAMPULHA / S\\u00c3O BERNARDO\"}, {\"cod\": \"846\", \"sgl\": \"713\", \"nom\": \"ESTACAO SAO GABRIEL/LAJEDO\"}, {\"cod\": \"848\", \"sgl\": \"714\", \"nom\": \"ESTACAO SAO GABRIEL/CASAS POPULARES\"}, {\"cod\": \"850\", \"sgl\": \"715\", \"nom\": \"ESTA\\u00c7\\u00c3O SAO GABRIEL / MONTE AZUL\"}, {\"cod\": \"852\", \"sgl\": \"716\", \"nom\": \"ESTACAO SAO GABRIEL/NOVO AARAO REIS\"}, {\"cod\": \"5612\", \"sgl\": \"717\", \"nom\": \"ESTA\\u00c7\\u00c3O PAMPULHA/CAMPO ALEGRE\"}, {\"cod\": \"5615\", \"sgl\": \"718\", \"nom\": \"ESTA\\u00c7\\u00c3O PAMPULHA/PLANALTO\"}, {\"cod\": \"5618\", \"sgl\": \"719\", \"nom\": \"ESTA\\u00c7\\u00c3O PAMPULHA/FLORAMAR\"}, {\"cod\": \"3682\", \"sgl\": \"732\", \"nom\": \"ESTA\\u00c7\\u00c3O S\\u00c3O GABRIEL/TUPI-FELICIDADE\"}, {\"cod\": \"3686\", \"sgl\": \"734\", \"nom\": \"ESTA\\u00c7\\u00c3O S\\u00c3O GABRIEL/ AAR\\u00c3O REIS VIA MINASL\\u00c2NDIA\"}, {\"cod\": \"3752\", \"sgl\": \"735\", \"nom\": \"ESTA\\u00c7\\u00c3O VILARINHO /  JULIANA   A\"}, {\"cod\": \"3754\", \"sgl\": \"736\", \"nom\": \"ESTA\\u00c7\\u00c3O VILARINHO /  JULIANA   B\"}, {\"cod\": \"3756\", \"sgl\": \"737\", \"nom\": \"EST.VILARINHO/JAQUELINE\"}, {\"cod\": \"3744\", \"sgl\": \"738\", \"nom\": \"ESTA\\u00c7\\u00c3O VILARINHO / CONJ. ZILAH SP\\u00d3SITO\"}, {\"cod\": \"3746\", \"sgl\": \"739\", \"nom\": \"EST.VILARINHO/JAQUELINE 2\\u00aa SE\\u00c7\\u00c3O-VIA FREI LEOPOLDO\"}, {\"cod\": \"6759\", \"sgl\": \"740\", \"nom\": \"TUPI-MIRANTE\"}, {\"cod\": \"564\", \"sgl\": \"8001A\", \"nom\": \"ANA LUCIA/BH SHOPPING\"}, {\"cod\": \"1624\", \"sgl\": \"806\", \"nom\": \"ESTA\\u00c7\\u00c3O S\\u00c3O GABRIEL/VISTA DO SOL - VIA NAZAR\\u00c9\"}, {\"cod\": \"1626\", \"sgl\": \"807\", \"nom\": \"ESTA\\u00c7\\u00c3O S\\u00c3O GABRIEL/RIBEIRO DE ABREU\"}, {\"cod\": \"1628\", \"sgl\": \"808\", \"nom\": \"ESTA\\u00c7\\u00c3O S\\u00c3O GABRIEL/PAULO VI\"}, {\"cod\": \"1630\", \"sgl\": \"809\", \"nom\": \"BELMONTE / ESTA\\u00c7\\u00c3O S\\u00c3O GABRIEL\"}, {\"cod\": \"1632\", \"sgl\": \"810\", \"nom\": \"EST. S\\u00c3O GABRIEL/PARQUE BELMONTE -VIA DOM SILV\\u00c9RIO\"}, {\"cod\": \"573\", \"sgl\": \"8101\", \"nom\": \"SANTA CRUZ/ALTO SANTA LUCIA\"}, {\"cod\": \"575\", \"sgl\": \"8102\", \"nom\": \"UNIAO/CARMO SION\"}, {\"cod\": \"578\", \"sgl\": \"8103\", \"nom\": \"NOVA FLORESTA/SANTA LUCIA\"}, {\"cod\": \"584\", \"sgl\": \"8106\", \"nom\": \"SANTA CRUZ/BH SHOPPING VIA BELVEDERE\"}, {\"cod\": \"745\", \"sgl\": \"8107\", \"nom\": \"CONCORDIA/SAO PEDRO\"}, {\"cod\": \"587\", \"sgl\": \"8108\", \"nom\": \"CIDADE NOVA/SAVASSI\"}, {\"cod\": \"1562\", \"sgl\": \"811\", \"nom\": \"ESTA\\u00c7\\u00c3O S\\u00c3O GABRIEL/VISTA DO SOL VIA PUC\"}, {\"cod\": \"3688\", \"sgl\": \"812\", \"nom\": \"ESTA\\u00c7\\u00c3O S\\u00c3O GABRIEL / S\\u00c3O GABRIEL\"}, {\"cod\": \"5537\", \"sgl\": \"813\", \"nom\": \"ESTA\\u00c7\\u00c3O S\\u00c3O GABRIEL/PAULO VI- VIA RIBEIRO DE ABREU\"}, {\"cod\": \"5540\", \"sgl\": \"814\", \"nom\": \"ESTA\\u00c7\\u00c3O S\\u00c3O GABRIEL / JARDIM VIT\\u00d3RIA\"}, {\"cod\": \"5476\", \"sgl\": \"815\", \"nom\": \"ESTA\\u00c7\\u00c3O S\\u00c3O GABRIEL/CONJUNTO PAULO VI\"}, {\"cod\": \"589\", \"sgl\": \"8150\", \"nom\": \"UNIAO/SERRA\"}, {\"cod\": \"5285\", \"sgl\": \"8151\", \"nom\": \"EST. S\\u00c3O GABRIEL/BH SHOPPING VIA ANEL RODOVIARIO\"}, {\"cod\": \"5281\", \"sgl\": \"82\", \"nom\": \"EST.S.GABRIEL/SAVASSI-VIA HOSPITAIS\"}, {\"cod\": \"591\", \"sgl\": \"8203\", \"nom\": \"RENASCENCA/BURITIS\"}, {\"cod\": \"593\", \"sgl\": \"8205\", \"nom\": \"MARIA GORETTI/NOVA GRANADA\"}, {\"cod\": \"596\", \"sgl\": \"8207\", \"nom\": \"MARIA GORETTI/ESTRELA DALVA\"}, {\"cod\": \"598\", \"sgl\": \"8208\", \"nom\": \"SANTA CRUZ / UNI-ESTORIL\"}, {\"cod\": \"1642\", \"sgl\": \"821\", \"nom\": \"ESTA\\u00c7\\u00c3O JOS\\u00c9 C\\u00c2NDIDO / GOIANIA\"}, {\"cod\": \"2194\", \"sgl\": \"822\", \"nom\": \"ESTA\\u00c7\\u00c3O JOS\\u00c9 C\\u00c2NDIDO / VILA MARIA\"}, {\"cod\": \"3834\", \"sgl\": \"823\", \"nom\": \"ESTA\\u00c7\\u00c3O S\\u00c3O GABRIEL / BAIRRO VIT\\u00d3RIA\"}, {\"cod\": \"6038\", \"sgl\": \"825\", \"nom\": \"ESTA\\u00c7\\u00c3O S\\u00c3O GABRIEL/VIT\\u00d3RIA II - VIA UPA NORDESTE\"}, {\"cod\": \"6761\", \"sgl\": \"826\", \"nom\": \"MONTES CLAROS/RUA S\\u00c3O R\\u00d4MULO\"}, {\"cod\": \"3694\", \"sgl\": \"832\", \"nom\": \"ESTA\\u00c7\\u00c3O S\\u00c3O GABRIEL / CAPIT\\u00c3O EDUARDO\"}, {\"cod\": \"819\", \"sgl\": \"8350\", \"nom\": \"EST.SAO GABRIEL/EST.BARREIRO\"}, {\"cod\": \"3690\", \"sgl\": \"836\", \"nom\": \"ESTA\\u00c7\\u00c3O S\\u00c3O GABRIEL / RIBEIRO DE ABREU\"}, {\"cod\": \"3692\", \"sgl\": \"837\", \"nom\": \"ESTA\\u00c7\\u00c3O S\\u00c3O GABRIEL / CONJ. RIBEIRO DE ABREU\"}, {\"cod\": \"5283\", \"sgl\": \"83D\", \"nom\": \"EST.S\\u00c3O GABRIEL/CENTRO-DIRETA \"}, {\"cod\": \"5396\", \"sgl\": \"83P\", \"nom\": \"EST.S.GABRIEL/CENTRO-PARADORA\"}, {\"cod\": \"605\", \"sgl\": \"8401\", \"nom\": \"CACHOEIRINHA/SAO JOSE\"}, {\"cod\": \"748\", \"sgl\": \"8405\", \"nom\": \"PALMARES/BELA VISTA\"}, {\"cod\": \"5546\", \"sgl\": \"85\", \"nom\": \"EST.S.GABRIEL/CENTRO-VIA FLORESTA\"}, {\"cod\": \"607\", \"sgl\": \"8501\", \"nom\": \"MARIA GORETTI/ENGENHO NOGUEIRA VIA OURO PRETO\"}, {\"cod\": \"3678\", \"sgl\": \"8550\", \"nom\": \"EST.S\\u00c3O GABRIEL/ZOO-VIA EST.PAMP.\"}, {\"cod\": \"6939\", \"sgl\": \"8551\", \"nom\": \"EST. S\\u00c3O GABRIEL/EST. UFMG VIA ANEL RODOVI\\u00c1RIO\"}, {\"cod\": \"609\", \"sgl\": \"901\", \"nom\": \"CIRCULAR LESTE\"}, {\"cod\": \"7178\", \"sgl\": \"902\", \"nom\": \"TAQUARIL/CASTANHEIRAS\"}, {\"cod\": \"771\", \"sgl\": \"9030\", \"nom\": \"CASTANHEIRAS/CENTRO\"}, {\"cod\": \"750\", \"sgl\": \"9031\", \"nom\": \"NOSSA SENHORA DE FATIMA/CENTRO\"}, {\"cod\": \"611\", \"sgl\": \"9032\", \"nom\": \"GRANJA DE FREITAS VIA ALTO VERA CRUZ\"}, {\"cod\": \"4916\", \"sgl\": \"9033\", \"nom\": \"CENTRO / ESTADIOS\"}, {\"cod\": \"613\", \"sgl\": \"9101\", \"nom\": \"ALTO VERA CRUZ/S\\u00c3O BENTO\"}, {\"cod\": \"616\", \"sgl\": \"9103\", \"nom\": \"SANTA TERESA/SANTO ANTONIO\"}, {\"cod\": \"618\", \"sgl\": \"9104\", \"nom\": \"SAGRADA FAMILIA/LUXEMBURGO\"}, {\"cod\": \"621\", \"sgl\": \"9105\", \"nom\": \"NOVA VISTA/SION\"}, {\"cod\": \"623\", \"sgl\": \"9106\", \"nom\": \"SAGRADA FAMILIA/SERRA\"}, {\"cod\": \"626\", \"sgl\": \"9201\", \"nom\": \"BALEIA/NOVA GRANADA\"}, {\"cod\": \"628\", \"sgl\": \"9202\", \"nom\": \"POMPEIA/JARDIM AMERICA\"}, {\"cod\": \"635\", \"sgl\": \"9204\", \"nom\": \"SANTA EFIGENIA/ESTORIL\"}, {\"cod\": \"638\", \"sgl\": \"9205\", \"nom\": \"NOVA VISTA/NOVA CINTRA\"}, {\"cod\": \"642\", \"sgl\": \"9206\", \"nom\": \"VERA CRUZ/BURITIS\"}, {\"cod\": \"647\", \"sgl\": \"9208\", \"nom\": \"TAQUARIL/CONJUNTO SANTA MARIA\"}, {\"cod\": \"650\", \"sgl\": \"9209\", \"nom\": \"SAGRADA FAMILIA/GUTIERREZ\"}, {\"cod\": \"652\", \"sgl\": \"9210\", \"nom\": \"SANTA TEREZA/PRADO\"}, {\"cod\": \"654\", \"sgl\": \"9211\", \"nom\": \"CAETANO FURQUIM/HAVAI\"}, {\"cod\": \"886\", \"sgl\": \"9214\", \"nom\": \"CAETANO FURQUIM/ HAVAI - VIA ALTO HAVAI\"}, {\"cod\": \"659\", \"sgl\": \"9250\", \"nom\": \"CAETANO FURQUIM/NOVA CINTRA VIA SAVASSI\"}, {\"cod\": \"752\", \"sgl\": \"9402\", \"nom\": \"SANTA INES/SANTO ANDRE\"}, {\"cod\": \"663\", \"sgl\": \"9403\", \"nom\": \"PARAISO/CAICARA\"}, {\"cod\": \"666\", \"sgl\": \"9404\", \"nom\": \"SAO LUCAS/NOVA ESPERANCA\"}, {\"cod\": \"668\", \"sgl\": \"9405\", \"nom\": \"INSTITUTO AGRONOMICO/MONSENHOR MESSIAS\"}, {\"cod\": \"670\", \"sgl\": \"9407\", \"nom\": \"ALTO VERA CRUZ/DOM BOSCO\"}, {\"cod\": \"673\", \"sgl\": \"9408\", \"nom\": \"SANTA EFIGENIA/PADRE EUSTAQUIO\"}, {\"cod\": \"676\", \"sgl\": \"9410\", \"nom\": \"SAGRADA FAMILIA/CORACAO EUCARISTICO\"}, {\"cod\": \"678\", \"sgl\": \"9411\", \"nom\": \"CASA BRANCA/SAO JOSE\"}, {\"cod\": \"680\", \"sgl\": \"9412\", \"nom\": \"CONJ.TAQUARIL/PADRE EUSTAQUIO\"}, {\"cod\": \"683\", \"sgl\": \"9414\", \"nom\": \"SANTA IN\\u00caS / JOAO PINHEIRO\"}, {\"cod\": \"6739\", \"sgl\": \"9415\", \"nom\": \"NOSSA SENHORA DE F\\u00c1TIMA/BONFIM\"}, {\"cod\": \"685\", \"sgl\": \"9501\", \"nom\": \"SAO LUCAS/JARAGUA\"}, {\"cod\": \"690\", \"sgl\": \"9502\", \"nom\": \"SAO GERALDO/SAO FRANCISCO VIA ESPLANADA\"}, {\"cod\": \"694\", \"sgl\": \"9503\", \"nom\": \"TAQUARIL/JARAGUA\"}, {\"cod\": \"697\", \"sgl\": \"9550\", \"nom\": \"CASA BRANCA/SAO FRANCISCO VIA EST. JOSE CANDIDO\"}, {\"cod\": \"699\", \"sgl\": \"9801\", \"nom\": \"SAUDADE/SANTA CRUZ\"}, {\"cod\": \"702\", \"sgl\": \"9803\", \"nom\": \"TAQUARIL/PALMARES\"}, {\"cod\": \"956\", \"sgl\": \"9805\", \"nom\": \"SANTA EFIG\\u00caNIA / RENASCEN\\u00c7A\"}, {\"cod\": \"1133\", \"sgl\": \"E061\", \"nom\": \"SERVI\\u00c7O ESPECIAL VIA\\u00c7\\u00c3O PARAENSE\"}, {\"cod\": \"709\", \"sgl\": \"SC01A\", \"nom\": \"CONTORNO A\"}, {\"cod\": \"711\", \"sgl\": \"SC01B\", \"nom\": \"CONTORNO B\"}, {\"cod\": \"713\", \"sgl\": \"SC01R\", \"nom\": \"CONTORNO/PRACA MILTON CAMPOS\"}, {\"cod\": \"715\", \"sgl\": \"SC02A\", \"nom\": \"PRACA 7/SAVASSI VIA PCA DA LIBERDADE - SANTA CASA\"}, {\"cod\": \"717\", \"sgl\": \"SC02B\", \"nom\": \"SAVASSI/PRACA 7 VIA SANTA CASA - PCA DA LIBERDADE\"}, {\"cod\": \"720\", \"sgl\": \"SC03A\", \"nom\": \"HOSPITAL FELICIO ROCHO/HOSPITAL MILITAR A\"}, {\"cod\": \"722\", \"sgl\": \"SC03B\", \"nom\": \"HOSPITAL FELICIO ROCHO/HOSPITAL MILITAR B\"}, {\"cod\": \"724\", \"sgl\": \"SC04A\", \"nom\": \"SANTA CASA/SAVASSI/RODOVIARIA A\"}, {\"cod\": \"726\", \"sgl\": \"SC04B\", \"nom\": \"SANTA CASA/RODOVIARIA/SAVASSI B\"}, {\"cod\": \"4818\", \"sgl\": \"SE02\", \"nom\": \"BURITIS / SAVASSI\"}], \"subLinhas\": []}))\n",
       "        });\n",
       "        </script>"
      ],
      "text/plain": [
       "<IPython.core.display.HTML object>"
      ]
     },
     "metadata": {},
     "output_type": "display_data"
    }
   ],
   "source": [
    "data = requests.get(pbh_link + 'buscarLinhas/retornoJSONListaLinhas')\n",
    "data = data.content.decode(\"utf-8\")\n",
    "data = data.replace('retornoJSONListaLinhas(', '')[:-1]\n",
    "data = data.replace('[\"', '[')\n",
    "data = data.replace('\"]', ']')\n",
    "data = data.replace(\"'\", '\"')\n",
    "\n",
    "data = json.loads(data)\n",
    "linhas = data[\"linhas\"]\n",
    "\n",
    "print(\"Linhas:\")\n",
    "RenderJSON(data)"
   ]
  },
  {
   "cell_type": "code",
   "execution_count": 68,
   "metadata": {},
   "outputs": [
    {
     "data": {
      "text/plain": [
       "'5699'"
      ]
     },
     "execution_count": 68,
     "metadata": {},
     "output_type": "execute_result"
    }
   ],
   "source": [
    "def get_code(num):\n",
    "    num = str(num)\n",
    "    \n",
    "    for i in linhas:\n",
    "        if i[\"sgl\"] == num:\n",
    "            return i[\"cod\"]\n",
    "    return(\"not found\")\n",
    "\n",
    "get_code(5106)"
   ]
  },
  {
   "cell_type": "code",
   "execution_count": 62,
   "metadata": {
    "scrolled": false
   },
   "outputs": [
    {
     "name": "stdout",
     "output_type": "stream",
     "text": [
      "Paradas da linha 63\n"
     ]
    },
    {
     "data": {
      "text/html": [
       "<div id=\"d7d906e4-070c-463d-addd-99e61df87c37\" style=\"height: auto; width:100%;\"></div>"
      ],
      "text/plain": [
       "<IPython.core.display.HTML object>"
      ]
     },
     "metadata": {},
     "output_type": "display_data"
    },
    {
     "data": {
      "text/html": [
       "<script>\n",
       "        require(['https://rawgit.com/caldwell/renderjson/master/renderjson.js'],\n",
       "        function() {\n",
       "          renderjson.set_show_to_level(1)\n",
       "          document.getElementById('d7d906e4-070c-463d-addd-99e61df87c37').appendChild(renderjson({\"sucesso\": true, \"paradas\": [{\"cod\": 12107, \"end\": \"Estacao Venda Nova\", \"siu\": \"\", \"sent\": \"ESTACAO VENDA NOVA\", \"temVeic\": false}, {\"cod\": 14241, \"end\": \"ESTACAO CANDELARIA\", \"siu\": \"12253\", \"sent\": \"ESTACAO VENDA NOVA\", \"temVeic\": false}, {\"cod\": 14249, \"end\": \"ESTACAO MINAS CAIXA\", \"siu\": \"12257\", \"sent\": \"ESTACAO VENDA NOVA\", \"temVeic\": false}, {\"cod\": 14253, \"end\": \"ESTACAO QUADRAS VILARINHO\", \"siu\": \"12261\", \"sent\": \"ESTACAO VENDA NOVA\", \"temVeic\": false}, {\"cod\": 14257, \"end\": \"ESTACAO UPA VENDA NOVA\", \"siu\": \"12265\", \"sent\": \"ESTACAO VENDA NOVA\", \"temVeic\": false}, {\"cod\": 14401, \"end\": \"ESTACAO CRISTIANO GUIMARAES\", \"siu\": \"12277\", \"sent\": \"ESTACAO VENDA NOVA\", \"temVeic\": false}, {\"cod\": 14399, \"end\": \"ESTACAO PLANALTO\", \"siu\": \"12275\", \"sent\": \"ESTACAO VENDA NOVA\", \"temVeic\": false}, {\"cod\": 14395, \"end\": \"ESTACAO SAO JOAO BATISTA\", \"siu\": \"10812\", \"sent\": \"ESTACAO VENDA NOVA\", \"temVeic\": false}, {\"cod\": 14393, \"end\": \"ESTACAO LAGOA DO NADO\", \"siu\": \"12271\", \"sent\": \"ESTACAO VENDA NOVA\", \"temVeic\": false}, {\"cod\": 14397, \"end\": \"ESTACAO MONTESE\", \"siu\": \"12269\", \"sent\": \"ESTACAO VENDA NOVA\", \"temVeic\": false}, {\"cod\": 14391, \"end\": \"ESTACAO MONTE CASTELO\", \"siu\": \"12267\", \"sent\": \"ESTACAO VENDA NOVA\", \"temVeic\": false}, {\"cod\": 97784, \"end\": \"ESTACAO PAMPULHA\", \"siu\": \"\", \"sent\": \"ESTACAO VENDA NOVA\", \"temVeic\": false}, {\"cod\": 12489, \"end\": \"ESTACAO SANTA ROSA\", \"siu\": \"12232\", \"sent\": \"ESTACAO VENDA NOVA\", \"temVeic\": false}, {\"cod\": 12495, \"end\": \"ESTACAO MINEIRAO\", \"siu\": \"12222\", \"sent\": \"ESTACAO VENDA NOVA\", \"temVeic\": false}, {\"cod\": 12499, \"end\": \"ESTACAO UFMG\", \"siu\": \"12216\", \"sent\": \"ESTACAO VENDA NOVA\", \"temVeic\": false}, {\"cod\": 12503, \"end\": \"ESTACAO LIBERDADE\", \"siu\": \"12210\", \"sent\": \"ESTACAO VENDA NOVA\", \"temVeic\": false}, {\"cod\": 12505, \"end\": \"ESTACAO COLEGIO MILITAR\", \"siu\": \"12207\", \"sent\": \"ESTACAO VENDA NOVA\", \"temVeic\": false}, {\"cod\": 12511, \"end\": \"ESTACAO SAO FRANCISCO\", \"siu\": \"12199\", \"sent\": \"ESTACAO VENDA NOVA\", \"temVeic\": false}, {\"cod\": 12516, \"end\": \"ESTACAO CACHOEIRINHA\", \"siu\": \"12197\", \"sent\": \"ESTACAO VENDA NOVA\", \"temVeic\": false}, {\"cod\": 12518, \"end\": \"ESTACAO AMERICO VESPUCIO\", \"siu\": \"12190\", \"sent\": \"ESTACAO VENDA NOVA\", \"temVeic\": false}, {\"cod\": 12526, \"end\": \"ESTACAO APARECIDA\", \"siu\": \"12182\", \"sent\": \"ESTACAO VENDA NOVA\", \"temVeic\": false}, {\"cod\": 12541, \"end\": \"ESTACAO OPERARIOS\", \"siu\": \"12176\", \"sent\": \"ESTACAO VENDA NOVA\", \"temVeic\": false}, {\"cod\": 12532, \"end\": \"ESTACAO HOSPITAL BELO HORIZONTE\", \"siu\": \"12170\", \"sent\": \"ESTACAO VENDA NOVA\", \"temVeic\": false}, {\"cod\": 12533, \"end\": \"ESTACAO IAPI\", \"siu\": \"12168\", \"sent\": \"ESTACAO VENDA NOVA\", \"temVeic\": false}, {\"cod\": 12536, \"end\": \"ESTACAO ODILON BEHRENS\", \"siu\": \"12158\", \"sent\": \"ESTACAO VENDA NOVA\", \"temVeic\": false}, {\"cod\": 12546, \"end\": \"ESTACAO SENAI\", \"siu\": \"12154\", \"sent\": \"ESTACAO VENDA NOVA\", \"temVeic\": false}, {\"cod\": 12545, \"end\": \"ESTACAO SENAI\", \"siu\": \"12155\", \"sent\": \"ESTACAO VENDA NOVA\", \"temVeic\": false}, {\"cod\": 12539, \"end\": \"ESTACAO ODILON BEHRENS\", \"siu\": \"12159\", \"sent\": \"ESTACAO VENDA NOVA\", \"temVeic\": false}, {\"cod\": 12527, \"end\": \"ESTACAO IAPI\", \"siu\": \"12169\", \"sent\": \"ESTACAO VENDA NOVA\", \"temVeic\": false}, {\"cod\": 12530, \"end\": \"ESTACAO HOSPITAL BELO HORIZONTE\", \"siu\": \"12171\", \"sent\": \"ESTACAO VENDA NOVA\", \"temVeic\": false}, {\"cod\": 12540, \"end\": \"ESTACAO OPERARIOS\", \"siu\": \"12177\", \"sent\": \"ESTACAO VENDA NOVA\", \"temVeic\": false}, {\"cod\": 12525, \"end\": \"ESTACAO APARECIDA\", \"siu\": \"12183\", \"sent\": \"ESTACAO VENDA NOVA\", \"temVeic\": false}, {\"cod\": 12517, \"end\": \"ESTACAO AMERICO VESPUCIO\", \"siu\": \"12191\", \"sent\": \"ESTACAO VENDA NOVA\", \"temVeic\": false}, {\"cod\": 12515, \"end\": \"ESTACAO CACHOEIRINHA\", \"siu\": \"12198\", \"sent\": \"ESTACAO VENDA NOVA\", \"temVeic\": false}, {\"cod\": 12510, \"end\": \"ESTACAO SAO FRANCISCO\", \"siu\": \"12200\", \"sent\": \"ESTACAO VENDA NOVA\", \"temVeic\": false}, {\"cod\": 12504, \"end\": \"ESTACAO COLEGIO MILITAR\", \"siu\": \"12208\", \"sent\": \"ESTACAO VENDA NOVA\", \"temVeic\": false}, {\"cod\": 12502, \"end\": \"ESTACAO LIBERDADE\", \"siu\": \"12211\", \"sent\": \"ESTACAO VENDA NOVA\", \"temVeic\": false}, {\"cod\": 12498, \"end\": \"ESTACAO UFMG\", \"siu\": \"12217\", \"sent\": \"ESTACAO VENDA NOVA\", \"temVeic\": false}, {\"cod\": 12494, \"end\": \"ESTACAO MINEIRAO\", \"siu\": \"12223\", \"sent\": \"ESTACAO VENDA NOVA\", \"temVeic\": false}, {\"cod\": 12488, \"end\": \"ESTACAO SANTA ROSA\", \"siu\": \"12233\", \"sent\": \"ESTACAO VENDA NOVA\", \"temVeic\": false}, {\"cod\": 97782, \"end\": \"ESTACAO PAMPULHA\", \"siu\": \"\", \"sent\": \"ESTACAO VENDA NOVA\", \"temVeic\": false}, {\"cod\": 14390, \"end\": \"ESTACAO MONTE CASTELO\", \"siu\": \"12266\", \"sent\": \"ESTACAO VENDA NOVA\", \"temVeic\": false}, {\"cod\": 14396, \"end\": \"ESTACAO MONTESE\", \"siu\": \"12268\", \"sent\": \"ESTACAO VENDA NOVA\", \"temVeic\": false}, {\"cod\": 14392, \"end\": \"ESTACAO LAGOA DO NADO\", \"siu\": \"12270\", \"sent\": \"ESTACAO VENDA NOVA\", \"temVeic\": false}, {\"cod\": 14394, \"end\": \"ESTACAO SAO JOAO BATISTA\", \"siu\": \"12272\", \"sent\": \"ESTACAO VENDA NOVA\", \"temVeic\": false}, {\"cod\": 14398, \"end\": \"ESTACAO PLANALTO\", \"siu\": \"12274\", \"sent\": \"ESTACAO VENDA NOVA\", \"temVeic\": false}, {\"cod\": 14400, \"end\": \"ESTACAO CRISTIANO GUIMARAES\", \"siu\": \"12276\", \"sent\": \"ESTACAO VENDA NOVA\", \"temVeic\": false}, {\"cod\": 14256, \"end\": \"ESTACAO UPA VENDA NOVA\", \"siu\": \"12262\", \"sent\": \"ESTACAO VENDA NOVA\", \"temVeic\": false}, {\"cod\": 14252, \"end\": \"ESTACAO QUADRAS VILARINHO\", \"siu\": \"12258\", \"sent\": \"ESTACAO VENDA NOVA\", \"temVeic\": false}, {\"cod\": 14243, \"end\": \"ESTACAO MINAS CAIXA\", \"siu\": \"12254\", \"sent\": \"ESTACAO VENDA NOVA\", \"temVeic\": false}, {\"cod\": 14242, \"end\": \"ESTACAO CANDELARIA\", \"siu\": \"12250\", \"sent\": \"ESTACAO VENDA NOVA\", \"temVeic\": false}, {\"cod\": 14686, \"end\": \"Estacao Venda Nova\", \"siu\": \"\", \"sent\": \"ESTACAO VENDA NOVA\", \"temVeic\": false}, {\"cod\": 12107, \"end\": \"Estacao Venda Nova\", \"siu\": \"\", \"sent\": \"ESTACAO VENDA NOVA\", \"temVeic\": false}, {\"cod\": 14241, \"end\": \"ESTACAO CANDELARIA\", \"siu\": \"12253\", \"sent\": \"ESTACAO VENDA NOVA\", \"temVeic\": false}, {\"cod\": 14249, \"end\": \"ESTACAO MINAS CAIXA\", \"siu\": \"12257\", \"sent\": \"ESTACAO VENDA NOVA\", \"temVeic\": false}, {\"cod\": 14253, \"end\": \"ESTACAO QUADRAS VILARINHO\", \"siu\": \"12261\", \"sent\": \"ESTACAO VENDA NOVA\", \"temVeic\": false}, {\"cod\": 14257, \"end\": \"ESTACAO UPA VENDA NOVA\", \"siu\": \"12265\", \"sent\": \"ESTACAO VENDA NOVA\", \"temVeic\": false}, {\"cod\": 12180, \"end\": \"Estacao Vilarinho\", \"siu\": \"\", \"sent\": \"ESTACAO VENDA NOVA\", \"temVeic\": false}, {\"cod\": 14401, \"end\": \"ESTACAO CRISTIANO GUIMARAES\", \"siu\": \"12277\", \"sent\": \"ESTACAO VENDA NOVA\", \"temVeic\": false}, {\"cod\": 14399, \"end\": \"ESTACAO PLANALTO\", \"siu\": \"12275\", \"sent\": \"ESTACAO VENDA NOVA\", \"temVeic\": false}, {\"cod\": 14395, \"end\": \"ESTACAO SAO JOAO BATISTA\", \"siu\": \"10812\", \"sent\": \"ESTACAO VENDA NOVA\", \"temVeic\": false}, {\"cod\": 14393, \"end\": \"ESTACAO LAGOA DO NADO\", \"siu\": \"12271\", \"sent\": \"ESTACAO VENDA NOVA\", \"temVeic\": false}, {\"cod\": 14397, \"end\": \"ESTACAO MONTESE\", \"siu\": \"12269\", \"sent\": \"ESTACAO VENDA NOVA\", \"temVeic\": false}, {\"cod\": 14391, \"end\": \"ESTACAO MONTE CASTELO\", \"siu\": \"12267\", \"sent\": \"ESTACAO VENDA NOVA\", \"temVeic\": false}, {\"cod\": 97784, \"end\": \"ESTACAO PAMPULHA\", \"siu\": \"\", \"sent\": \"ESTACAO VENDA NOVA\", \"temVeic\": false}, {\"cod\": 12489, \"end\": \"ESTACAO SANTA ROSA\", \"siu\": \"12232\", \"sent\": \"ESTACAO VENDA NOVA\", \"temVeic\": false}, {\"cod\": 12495, \"end\": \"ESTACAO MINEIRAO\", \"siu\": \"12222\", \"sent\": \"ESTACAO VENDA NOVA\", \"temVeic\": false}, {\"cod\": 12499, \"end\": \"ESTACAO UFMG\", \"siu\": \"12216\", \"sent\": \"ESTACAO VENDA NOVA\", \"temVeic\": false}, {\"cod\": 12503, \"end\": \"ESTACAO LIBERDADE\", \"siu\": \"12210\", \"sent\": \"ESTACAO VENDA NOVA\", \"temVeic\": false}, {\"cod\": 12505, \"end\": \"ESTACAO COLEGIO MILITAR\", \"siu\": \"12207\", \"sent\": \"ESTACAO VENDA NOVA\", \"temVeic\": false}, {\"cod\": 12511, \"end\": \"ESTACAO SAO FRANCISCO\", \"siu\": \"12199\", \"sent\": \"ESTACAO VENDA NOVA\", \"temVeic\": false}, {\"cod\": 12516, \"end\": \"ESTACAO CACHOEIRINHA\", \"siu\": \"12197\", \"sent\": \"ESTACAO VENDA NOVA\", \"temVeic\": false}, {\"cod\": 12518, \"end\": \"ESTACAO AMERICO VESPUCIO\", \"siu\": \"12190\", \"sent\": \"ESTACAO VENDA NOVA\", \"temVeic\": false}, {\"cod\": 12526, \"end\": \"ESTACAO APARECIDA\", \"siu\": \"12182\", \"sent\": \"ESTACAO VENDA NOVA\", \"temVeic\": false}, {\"cod\": 12541, \"end\": \"ESTACAO OPERARIOS\", \"siu\": \"12176\", \"sent\": \"ESTACAO VENDA NOVA\", \"temVeic\": false}, {\"cod\": 12532, \"end\": \"ESTACAO HOSPITAL BELO HORIZONTE\", \"siu\": \"12170\", \"sent\": \"ESTACAO VENDA NOVA\", \"temVeic\": false}, {\"cod\": 12533, \"end\": \"ESTACAO IAPI\", \"siu\": \"12168\", \"sent\": \"ESTACAO VENDA NOVA\", \"temVeic\": false}, {\"cod\": 12536, \"end\": \"ESTACAO ODILON BEHRENS\", \"siu\": \"12158\", \"sent\": \"ESTACAO VENDA NOVA\", \"temVeic\": false}, {\"cod\": 12546, \"end\": \"ESTACAO SENAI\", \"siu\": \"12154\", \"sent\": \"ESTACAO VENDA NOVA\", \"temVeic\": false}, {\"cod\": 12313, \"end\": \"ESTACAO CARIJOS\", \"siu\": \"91013\", \"sent\": \"ESTACAO VENDA NOVA\", \"temVeic\": false}, {\"cod\": 12296, \"end\": \"ESTACAO RIO DE JANEIRO\", \"siu\": \"91009\", \"sent\": \"ESTACAO VENDA NOVA\", \"temVeic\": false}, {\"cod\": 12545, \"end\": \"ESTACAO SENAI\", \"siu\": \"12155\", \"sent\": \"ESTACAO VENDA NOVA\", \"temVeic\": false}, {\"cod\": 12539, \"end\": \"ESTACAO ODILON BEHRENS\", \"siu\": \"12159\", \"sent\": \"ESTACAO VENDA NOVA\", \"temVeic\": false}, {\"cod\": 12527, \"end\": \"ESTACAO IAPI\", \"siu\": \"12169\", \"sent\": \"ESTACAO VENDA NOVA\", \"temVeic\": false}, {\"cod\": 12530, \"end\": \"ESTACAO HOSPITAL BELO HORIZONTE\", \"siu\": \"12171\", \"sent\": \"ESTACAO VENDA NOVA\", \"temVeic\": false}, {\"cod\": 12540, \"end\": \"ESTACAO OPERARIOS\", \"siu\": \"12177\", \"sent\": \"ESTACAO VENDA NOVA\", \"temVeic\": false}, {\"cod\": 12525, \"end\": \"ESTACAO APARECIDA\", \"siu\": \"12183\", \"sent\": \"ESTACAO VENDA NOVA\", \"temVeic\": false}, {\"cod\": 12517, \"end\": \"ESTACAO AMERICO VESPUCIO\", \"siu\": \"12191\", \"sent\": \"ESTACAO VENDA NOVA\", \"temVeic\": false}, {\"cod\": 12515, \"end\": \"ESTACAO CACHOEIRINHA\", \"siu\": \"12198\", \"sent\": \"ESTACAO VENDA NOVA\", \"temVeic\": false}, {\"cod\": 12510, \"end\": \"ESTACAO SAO FRANCISCO\", \"siu\": \"12200\", \"sent\": \"ESTACAO VENDA NOVA\", \"temVeic\": false}, {\"cod\": 12504, \"end\": \"ESTACAO COLEGIO MILITAR\", \"siu\": \"12208\", \"sent\": \"ESTACAO VENDA NOVA\", \"temVeic\": false}, {\"cod\": 12502, \"end\": \"ESTACAO LIBERDADE\", \"siu\": \"12211\", \"sent\": \"ESTACAO VENDA NOVA\", \"temVeic\": false}, {\"cod\": 12498, \"end\": \"ESTACAO UFMG\", \"siu\": \"12217\", \"sent\": \"ESTACAO VENDA NOVA\", \"temVeic\": false}, {\"cod\": 12494, \"end\": \"ESTACAO MINEIRAO\", \"siu\": \"12223\", \"sent\": \"ESTACAO VENDA NOVA\", \"temVeic\": false}, {\"cod\": 12488, \"end\": \"ESTACAO SANTA ROSA\", \"siu\": \"12233\", \"sent\": \"ESTACAO VENDA NOVA\", \"temVeic\": false}, {\"cod\": 97782, \"end\": \"ESTACAO PAMPULHA\", \"siu\": \"\", \"sent\": \"ESTACAO VENDA NOVA\", \"temVeic\": false}, {\"cod\": 14390, \"end\": \"ESTACAO MONTE CASTELO\", \"siu\": \"12266\", \"sent\": \"ESTACAO VENDA NOVA\", \"temVeic\": false}, {\"cod\": 14396, \"end\": \"ESTACAO MONTESE\", \"siu\": \"12268\", \"sent\": \"ESTACAO VENDA NOVA\", \"temVeic\": false}, {\"cod\": 14392, \"end\": \"ESTACAO LAGOA DO NADO\", \"siu\": \"12270\", \"sent\": \"ESTACAO VENDA NOVA\", \"temVeic\": false}, {\"cod\": 14394, \"end\": \"ESTACAO SAO JOAO BATISTA\", \"siu\": \"12272\", \"sent\": \"ESTACAO VENDA NOVA\", \"temVeic\": false}, {\"cod\": 14398, \"end\": \"ESTACAO PLANALTO\", \"siu\": \"12274\", \"sent\": \"ESTACAO VENDA NOVA\", \"temVeic\": false}, {\"cod\": 14400, \"end\": \"ESTACAO CRISTIANO GUIMARAES\", \"siu\": \"12276\", \"sent\": \"ESTACAO VENDA NOVA\", \"temVeic\": false}, {\"cod\": 12176, \"end\": \"Estacao Vilarinho\", \"siu\": \"\", \"sent\": \"ESTACAO VENDA NOVA\", \"temVeic\": false}, {\"cod\": 14256, \"end\": \"ESTACAO UPA VENDA NOVA\", \"siu\": \"12262\", \"sent\": \"ESTACAO VENDA NOVA\", \"temVeic\": false}, {\"cod\": 14252, \"end\": \"ESTACAO QUADRAS VILARINHO\", \"siu\": \"12258\", \"sent\": \"ESTACAO VENDA NOVA\", \"temVeic\": false}, {\"cod\": 14243, \"end\": \"ESTACAO MINAS CAIXA\", \"siu\": \"12254\", \"sent\": \"ESTACAO VENDA NOVA\", \"temVeic\": false}, {\"cod\": 14242, \"end\": \"ESTACAO CANDELARIA\", \"siu\": \"12250\", \"sent\": \"ESTACAO VENDA NOVA\", \"temVeic\": false}, {\"cod\": 14686, \"end\": \"Estacao Venda Nova\", \"siu\": \"\", \"sent\": \"ESTACAO VENDA NOVA\", \"temVeic\": false}, {\"cod\": 12107, \"end\": \"Estacao Venda Nova\", \"siu\": \"\", \"sent\": \"ESTACAO VENDA NOVA\", \"temVeic\": false}, {\"cod\": 9823, \"end\": \"RUA PADRE PEDRO PINTO, 1997\", \"siu\": \"10914\", \"sent\": \"ESTACAO VENDA NOVA\", \"temVeic\": false}, {\"cod\": 1259, \"end\": \"RUA PADRE PEDRO PINTO, 1699\", \"siu\": \"10912\", \"sent\": \"ESTACAO VENDA NOVA\", \"temVeic\": false}, {\"cod\": 1273, \"end\": \"RUA PADRE PEDRO PINTO, 1315\", \"siu\": \"12692\", \"sent\": \"ESTACAO VENDA NOVA\", \"temVeic\": false}, {\"cod\": 1262, \"end\": \"RUA PADRE PEDRO PINTO, 951\", \"siu\": \"10907\", \"sent\": \"ESTACAO VENDA NOVA\", \"temVeic\": false}, {\"cod\": 99678, \"end\": \"RUA PADRE PEDRO PINTO, 645\", \"siu\": \"12670\", \"sent\": \"ESTACAO VENDA NOVA\", \"temVeic\": false}, {\"cod\": 1264, \"end\": \"RUA PADRE PEDRO PINTO, 281\", \"siu\": \"10903\", \"sent\": \"ESTACAO VENDA NOVA\", \"temVeic\": false}, {\"cod\": 12180, \"end\": \"Estacao Vilarinho\", \"siu\": \"\", \"sent\": \"ESTACAO VENDA NOVA\", \"temVeic\": false}, {\"cod\": 10279, \"end\": \"AVE DOM PEDRO I, 2997\", \"siu\": \"10815\", \"sent\": \"ESTACAO VENDA NOVA\", \"temVeic\": false}, {\"cod\": 1281, \"end\": \"AVE DOM PEDRO I, 2705\", \"siu\": \"10813\", \"sent\": \"ESTACAO VENDA NOVA\", \"temVeic\": false}, {\"cod\": 98590, \"end\": \"AVE DOM PEDRO I, 2221\", \"siu\": \"12273\", \"sent\": \"ESTACAO VENDA NOVA\", \"temVeic\": false}, {\"cod\": 1282, \"end\": \"AVE DOM PEDRO I, 2045\", \"siu\": \"10809\", \"sent\": \"ESTACAO VENDA NOVA\", \"temVeic\": false}, {\"cod\": 9095, \"end\": \"AVE DOM PEDRO I, 1355\", \"siu\": \"10806\", \"sent\": \"ESTACAO VENDA NOVA\", \"temVeic\": false}, {\"cod\": 9096, \"end\": \"AVE DOM PEDRO I, 1151\", \"siu\": \"10804\", \"sent\": \"ESTACAO VENDA NOVA\", \"temVeic\": false}, {\"cod\": 97784, \"end\": \"ESTACAO PAMPULHA\", \"siu\": \"\", \"sent\": \"ESTACAO VENDA NOVA\", \"temVeic\": false}, {\"cod\": 98940, \"end\": \"AVE PRESIDENTE ANTONIO CARLOS, 8271\", \"siu\": \"12528\", \"sent\": \"ESTACAO VENDA NOVA\", \"temVeic\": false}, {\"cod\": 4648, \"end\": \"AVE PRESIDENTE ANTONIO CARLOS, 7645\", \"siu\": \"10128\", \"sent\": \"ESTACAO VENDA NOVA\", \"temVeic\": false}, {\"cod\": 7420, \"end\": \"AVE PRESIDENTE ANTONIO CARLOS, 6519\", \"siu\": \"10123\", \"sent\": \"ESTACAO VENDA NOVA\", \"temVeic\": false}, {\"cod\": 98137, \"end\": \"AVE PRESIDENTE ANTONIO CARLOS, 4303\", \"siu\": \"10119\", \"sent\": \"ESTACAO VENDA NOVA\", \"temVeic\": false}, {\"cod\": 8519, \"end\": \"AVE PRESIDENTE ANTONIO CARLOS, 3835\", \"siu\": \"10114\", \"sent\": \"ESTACAO VENDA NOVA\", \"temVeic\": false}, {\"cod\": 9654, \"end\": \"AVE PRESIDENTE ANTONIO CARLOS, 3557\", \"siu\": \"10108\", \"sent\": \"ESTACAO VENDA NOVA\", \"temVeic\": false}, {\"cod\": 11202, \"end\": \"AVE PRESIDENTE ANTONIO CARLOS, 2715\", \"siu\": \"10101\", \"sent\": \"ESTACAO VENDA NOVA\", \"temVeic\": false}, {\"cod\": 6574, \"end\": \"AVE PRESIDENTE ANTONIO CARLOS, 1859\", \"siu\": \"12520\", \"sent\": \"ESTACAO VENDA NOVA\", \"temVeic\": false}, {\"cod\": 10392, \"end\": \"AVE PRESIDENTE ANTONIO CARLOS, 1143\", \"siu\": \"10083\", \"sent\": \"ESTACAO VENDA NOVA\", \"temVeic\": false}, {\"cod\": 8531, \"end\": \"AVE PRESIDENTE ANTONIO CARLOS, 955\", \"siu\": \"10079\", \"sent\": \"ESTACAO VENDA NOVA\", \"temVeic\": false}, {\"cod\": 6575, \"end\": \"AVE PRESIDENTE ANTONIO CARLOS, 561\", \"siu\": \"10073\", \"sent\": \"ESTACAO VENDA NOVA\", \"temVeic\": false}, {\"cod\": 12313, \"end\": \"ESTACAO CARIJOS\", \"siu\": \"91013\", \"sent\": \"ESTACAO VENDA NOVA\", \"temVeic\": false}, {\"cod\": 12296, \"end\": \"ESTACAO RIO DE JANEIRO\", \"siu\": \"91009\", \"sent\": \"ESTACAO VENDA NOVA\", \"temVeic\": false}, {\"cod\": 926, \"end\": \"AVE PRESIDENTE ANTONIO CARLOS, 618\", \"siu\": \"10074\", \"sent\": \"ESTACAO VENDA NOVA\", \"temVeic\": false}, {\"cod\": 98928, \"end\": \"AVE PRESIDENTE ANTONIO CARLOS, 970\", \"siu\": \"12517\", \"sent\": \"ESTACAO VENDA NOVA\", \"temVeic\": false}, {\"cod\": 6605, \"end\": \"AVE PRESIDENTE ANTONIO CARLOS, 1280\", \"siu\": \"10087\", \"sent\": \"ESTACAO VENDA NOVA\", \"temVeic\": false}, {\"cod\": 4702, \"end\": \"AVE PRESIDENTE ANTONIO CARLOS, 1694\", \"siu\": \"10091\", \"sent\": \"ESTACAO VENDA NOVA\", \"temVeic\": false}, {\"cod\": 8521, \"end\": \"AVE PRESIDENTE ANTONIO CARLOS, 2176\", \"siu\": \"12521\", \"sent\": \"ESTACAO VENDA NOVA\", \"temVeic\": false}, {\"cod\": 380, \"end\": \"AVE PRESIDENTE ANTONIO CARLOS, 2782\", \"siu\": \"10102\", \"sent\": \"ESTACAO VENDA NOVA\", \"temVeic\": false}, {\"cod\": 9668, \"end\": \"AVE PRESIDENTE ANTONIO CARLOS, 3230\", \"siu\": \"12522\", \"sent\": \"ESTACAO VENDA NOVA\", \"temVeic\": false}, {\"cod\": 635, \"end\": \"AVE PRESIDENTE ANTONIO CARLOS, 3590\", \"siu\": \"10109\", \"sent\": \"ESTACAO VENDA NOVA\", \"temVeic\": false}, {\"cod\": 7737, \"end\": \"AVE PRESIDENTE ANTONIO CARLOS, 3860\", \"siu\": \"12525\", \"sent\": \"ESTACAO VENDA NOVA\", \"temVeic\": false}, {\"cod\": 99295, \"end\": \"AVE PRESIDENTE ANTONIO CARLOS, 4100\", \"siu\": \"10117\", \"sent\": \"ESTACAO VENDA NOVA\", \"temVeic\": false}, {\"cod\": 9972, \"end\": \"AVE PRESIDENTE ANTONIO CARLOS, 4500\", \"siu\": \"10120\", \"sent\": \"ESTACAO VENDA NOVA\", \"temVeic\": false}, {\"cod\": 8536, \"end\": \"AVE PRESIDENTE ANTONIO CARLOS, 6386\", \"siu\": \"12526\", \"sent\": \"ESTACAO VENDA NOVA\", \"temVeic\": false}, {\"cod\": 9974, \"end\": \"AVE PRESIDENTE ANTONIO CARLOS, 7026\", \"siu\": \"10125\", \"sent\": \"ESTACAO VENDA NOVA\", \"temVeic\": false}, {\"cod\": 9975, \"end\": \"AVE PRESIDENTE ANTONIO CARLOS, 7580\", \"siu\": \"10127\", \"sent\": \"ESTACAO VENDA NOVA\", \"temVeic\": false}, {\"cod\": 9976, \"end\": \"AVE PRESIDENTE ANTONIO CARLOS, 8100\", \"siu\": \"10132\", \"sent\": \"ESTACAO VENDA NOVA\", \"temVeic\": false}, {\"cod\": 97782, \"end\": \"ESTACAO PAMPULHA\", \"siu\": \"\", \"sent\": \"ESTACAO VENDA NOVA\", \"temVeic\": false}, {\"cod\": 9977, \"end\": \"AVE DOM PEDRO I, 580\", \"siu\": \"10801\", \"sent\": \"ESTACAO VENDA NOVA\", \"temVeic\": false}, {\"cod\": 9978, \"end\": \"AVE DOM PEDRO I, 1018\", \"siu\": \"10803\", \"sent\": \"ESTACAO VENDA NOVA\", \"temVeic\": false}, {\"cod\": 9979, \"end\": \"AVE DOM PEDRO I, 1220\", \"siu\": \"10805\", \"sent\": \"ESTACAO VENDA NOVA\", \"temVeic\": false}, {\"cod\": 9980, \"end\": \"AVE DOM PEDRO I, 1706\", \"siu\": \"10808\", \"sent\": \"ESTACAO VENDA NOVA\", \"temVeic\": false}, {\"cod\": 10093, \"end\": \"AVE DOM PEDRO I, 2062\", \"siu\": \"10810\", \"sent\": \"ESTACAO VENDA NOVA\", \"temVeic\": false}, {\"cod\": 10154, \"end\": \"AVE DOM PEDRO I, 2140\", \"siu\": \"10811\", \"sent\": \"ESTACAO VENDA NOVA\", \"temVeic\": false}, {\"cod\": 10161, \"end\": \"AVE DOM PEDRO I, 2714\", \"siu\": \"10814\", \"sent\": \"ESTACAO VENDA NOVA\", \"temVeic\": false}, {\"cod\": 6884, \"end\": \"AVE VILARINHO, 677\", \"siu\": \"11790\", \"sent\": \"ESTACAO VENDA NOVA\", \"temVeic\": false}, {\"cod\": 12176, \"end\": \"Estacao Vilarinho\", \"siu\": \"\", \"sent\": \"ESTACAO VENDA NOVA\", \"temVeic\": false}, {\"cod\": 1277, \"end\": \"RUA PADRE PEDRO PINTO, 644\", \"siu\": \"10904\", \"sent\": \"ESTACAO VENDA NOVA\", \"temVeic\": false}, {\"cod\": 1275, \"end\": \"RUA PADRE PEDRO PINTO, 780\", \"siu\": \"10906\", \"sent\": \"ESTACAO VENDA NOVA\", \"temVeic\": false}, {\"cod\": 1278, \"end\": \"RUA PADRE PEDRO PINTO, 980\", \"siu\": \"10908\", \"sent\": \"ESTACAO VENDA NOVA\", \"temVeic\": false}, {\"cod\": 1279, \"end\": \"RUA PADRE PEDRO PINTO, 1530\", \"siu\": \"10911\", \"sent\": \"ESTACAO VENDA NOVA\", \"temVeic\": false}, {\"cod\": 1280, \"end\": \"RUA PADRE PEDRO PINTO, 1988\", \"siu\": \"10913\", \"sent\": \"ESTACAO VENDA NOVA\", \"temVeic\": false}, {\"cod\": 14686, \"end\": \"Estacao Venda Nova\", \"siu\": \"\", \"sent\": \"ESTACAO VENDA NOVA\", \"temVeic\": false}, {\"cod\": 12107, \"end\": \"Estacao Venda Nova\", \"siu\": \"\", \"sent\": \"ESTACAO VENDA NOVA\", \"temVeic\": false}, {\"cod\": 14241, \"end\": \"ESTACAO CANDELARIA\", \"siu\": \"12253\", \"sent\": \"ESTACAO VENDA NOVA\", \"temVeic\": false}, {\"cod\": 14249, \"end\": \"ESTACAO MINAS CAIXA\", \"siu\": \"12257\", \"sent\": \"ESTACAO VENDA NOVA\", \"temVeic\": false}, {\"cod\": 14253, \"end\": \"ESTACAO QUADRAS VILARINHO\", \"siu\": \"12261\", \"sent\": \"ESTACAO VENDA NOVA\", \"temVeic\": false}, {\"cod\": 14257, \"end\": \"ESTACAO UPA VENDA NOVA\", \"siu\": \"12265\", \"sent\": \"ESTACAO VENDA NOVA\", \"temVeic\": false}, {\"cod\": 14401, \"end\": \"ESTACAO CRISTIANO GUIMARAES\", \"siu\": \"12277\", \"sent\": \"ESTACAO VENDA NOVA\", \"temVeic\": false}, {\"cod\": 14399, \"end\": \"ESTACAO PLANALTO\", \"siu\": \"12275\", \"sent\": \"ESTACAO VENDA NOVA\", \"temVeic\": false}, {\"cod\": 14395, \"end\": \"ESTACAO SAO JOAO BATISTA\", \"siu\": \"10812\", \"sent\": \"ESTACAO VENDA NOVA\", \"temVeic\": false}, {\"cod\": 14393, \"end\": \"ESTACAO LAGOA DO NADO\", \"siu\": \"12271\", \"sent\": \"ESTACAO VENDA NOVA\", \"temVeic\": false}, {\"cod\": 14397, \"end\": \"ESTACAO MONTESE\", \"siu\": \"12269\", \"sent\": \"ESTACAO VENDA NOVA\", \"temVeic\": false}, {\"cod\": 14391, \"end\": \"ESTACAO MONTE CASTELO\", \"siu\": \"12267\", \"sent\": \"ESTACAO VENDA NOVA\", \"temVeic\": false}, {\"cod\": 97784, \"end\": \"ESTACAO PAMPULHA\", \"siu\": \"\", \"sent\": \"ESTACAO VENDA NOVA\", \"temVeic\": false}, {\"cod\": 12489, \"end\": \"ESTACAO SANTA ROSA\", \"siu\": \"12232\", \"sent\": \"ESTACAO VENDA NOVA\", \"temVeic\": false}, {\"cod\": 12495, \"end\": \"ESTACAO MINEIRAO\", \"siu\": \"12222\", \"sent\": \"ESTACAO VENDA NOVA\", \"temVeic\": false}, {\"cod\": 12499, \"end\": \"ESTACAO UFMG\", \"siu\": \"12216\", \"sent\": \"ESTACAO VENDA NOVA\", \"temVeic\": false}, {\"cod\": 12503, \"end\": \"ESTACAO LIBERDADE\", \"siu\": \"12210\", \"sent\": \"ESTACAO VENDA NOVA\", \"temVeic\": false}, {\"cod\": 12505, \"end\": \"ESTACAO COLEGIO MILITAR\", \"siu\": \"12207\", \"sent\": \"ESTACAO VENDA NOVA\", \"temVeic\": false}, {\"cod\": 12511, \"end\": \"ESTACAO SAO FRANCISCO\", \"siu\": \"12199\", \"sent\": \"ESTACAO VENDA NOVA\", \"temVeic\": false}, {\"cod\": 12516, \"end\": \"ESTACAO CACHOEIRINHA\", \"siu\": \"12197\", \"sent\": \"ESTACAO VENDA NOVA\", \"temVeic\": false}, {\"cod\": 12518, \"end\": \"ESTACAO AMERICO VESPUCIO\", \"siu\": \"12190\", \"sent\": \"ESTACAO VENDA NOVA\", \"temVeic\": false}, {\"cod\": 12526, \"end\": \"ESTACAO APARECIDA\", \"siu\": \"12182\", \"sent\": \"ESTACAO VENDA NOVA\", \"temVeic\": false}, {\"cod\": 12541, \"end\": \"ESTACAO OPERARIOS\", \"siu\": \"12176\", \"sent\": \"ESTACAO VENDA NOVA\", \"temVeic\": false}, {\"cod\": 12532, \"end\": \"ESTACAO HOSPITAL BELO HORIZONTE\", \"siu\": \"12170\", \"sent\": \"ESTACAO VENDA NOVA\", \"temVeic\": false}, {\"cod\": 12533, \"end\": \"ESTACAO IAPI\", \"siu\": \"12168\", \"sent\": \"ESTACAO VENDA NOVA\", \"temVeic\": false}, {\"cod\": 12536, \"end\": \"ESTACAO ODILON BEHRENS\", \"siu\": \"12158\", \"sent\": \"ESTACAO VENDA NOVA\", \"temVeic\": false}, {\"cod\": 12546, \"end\": \"ESTACAO SENAI\", \"siu\": \"12154\", \"sent\": \"ESTACAO VENDA NOVA\", \"temVeic\": false}, {\"cod\": 12298, \"end\": \"ESTACAO RIO DE JANEIRO\", \"siu\": \"91008\", \"sent\": \"ESTACAO VENDA NOVA\", \"temVeic\": false}, {\"cod\": 12313, \"end\": \"ESTACAO CARIJOS\", \"siu\": \"91013\", \"sent\": \"ESTACAO VENDA NOVA\", \"temVeic\": false}, {\"cod\": 12545, \"end\": \"ESTACAO SENAI\", \"siu\": \"12155\", \"sent\": \"ESTACAO VENDA NOVA\", \"temVeic\": false}, {\"cod\": 12539, \"end\": \"ESTACAO ODILON BEHRENS\", \"siu\": \"12159\", \"sent\": \"ESTACAO VENDA NOVA\", \"temVeic\": false}, {\"cod\": 12527, \"end\": \"ESTACAO IAPI\", \"siu\": \"12169\", \"sent\": \"ESTACAO VENDA NOVA\", \"temVeic\": false}, {\"cod\": 12530, \"end\": \"ESTACAO HOSPITAL BELO HORIZONTE\", \"siu\": \"12171\", \"sent\": \"ESTACAO VENDA NOVA\", \"temVeic\": false}, {\"cod\": 12540, \"end\": \"ESTACAO OPERARIOS\", \"siu\": \"12177\", \"sent\": \"ESTACAO VENDA NOVA\", \"temVeic\": false}, {\"cod\": 12525, \"end\": \"ESTACAO APARECIDA\", \"siu\": \"12183\", \"sent\": \"ESTACAO VENDA NOVA\", \"temVeic\": false}, {\"cod\": 12517, \"end\": \"ESTACAO AMERICO VESPUCIO\", \"siu\": \"12191\", \"sent\": \"ESTACAO VENDA NOVA\", \"temVeic\": false}, {\"cod\": 12515, \"end\": \"ESTACAO CACHOEIRINHA\", \"siu\": \"12198\", \"sent\": \"ESTACAO VENDA NOVA\", \"temVeic\": false}, {\"cod\": 12510, \"end\": \"ESTACAO SAO FRANCISCO\", \"siu\": \"12200\", \"sent\": \"ESTACAO VENDA NOVA\", \"temVeic\": false}, {\"cod\": 12504, \"end\": \"ESTACAO COLEGIO MILITAR\", \"siu\": \"12208\", \"sent\": \"ESTACAO VENDA NOVA\", \"temVeic\": false}, {\"cod\": 12502, \"end\": \"ESTACAO LIBERDADE\", \"siu\": \"12211\", \"sent\": \"ESTACAO VENDA NOVA\", \"temVeic\": false}, {\"cod\": 12498, \"end\": \"ESTACAO UFMG\", \"siu\": \"12217\", \"sent\": \"ESTACAO VENDA NOVA\", \"temVeic\": false}, {\"cod\": 12494, \"end\": \"ESTACAO MINEIRAO\", \"siu\": \"12223\", \"sent\": \"ESTACAO VENDA NOVA\", \"temVeic\": false}, {\"cod\": 12488, \"end\": \"ESTACAO SANTA ROSA\", \"siu\": \"12233\", \"sent\": \"ESTACAO VENDA NOVA\", \"temVeic\": false}, {\"cod\": 97782, \"end\": \"ESTACAO PAMPULHA\", \"siu\": \"\", \"sent\": \"ESTACAO VENDA NOVA\", \"temVeic\": false}, {\"cod\": 14390, \"end\": \"ESTACAO MONTE CASTELO\", \"siu\": \"12266\", \"sent\": \"ESTACAO VENDA NOVA\", \"temVeic\": false}, {\"cod\": 14396, \"end\": \"ESTACAO MONTESE\", \"siu\": \"12268\", \"sent\": \"ESTACAO VENDA NOVA\", \"temVeic\": false}, {\"cod\": 14392, \"end\": \"ESTACAO LAGOA DO NADO\", \"siu\": \"12270\", \"sent\": \"ESTACAO VENDA NOVA\", \"temVeic\": false}, {\"cod\": 14394, \"end\": \"ESTACAO SAO JOAO BATISTA\", \"siu\": \"12272\", \"sent\": \"ESTACAO VENDA NOVA\", \"temVeic\": false}, {\"cod\": 14398, \"end\": \"ESTACAO PLANALTO\", \"siu\": \"12274\", \"sent\": \"ESTACAO VENDA NOVA\", \"temVeic\": false}, {\"cod\": 14400, \"end\": \"ESTACAO CRISTIANO GUIMARAES\", \"siu\": \"12276\", \"sent\": \"ESTACAO VENDA NOVA\", \"temVeic\": false}, {\"cod\": 14256, \"end\": \"ESTACAO UPA VENDA NOVA\", \"siu\": \"12262\", \"sent\": \"ESTACAO VENDA NOVA\", \"temVeic\": false}, {\"cod\": 14252, \"end\": \"ESTACAO QUADRAS VILARINHO\", \"siu\": \"12258\", \"sent\": \"ESTACAO VENDA NOVA\", \"temVeic\": false}, {\"cod\": 14243, \"end\": \"ESTACAO MINAS CAIXA\", \"siu\": \"12254\", \"sent\": \"ESTACAO VENDA NOVA\", \"temVeic\": false}, {\"cod\": 14242, \"end\": \"ESTACAO CANDELARIA\", \"siu\": \"12250\", \"sent\": \"ESTACAO VENDA NOVA\", \"temVeic\": false}, {\"cod\": 14686, \"end\": \"Estacao Venda Nova\", \"siu\": \"\", \"sent\": \"ESTACAO VENDA NOVA\", \"temVeic\": false}, {\"cod\": 12107, \"end\": \"Estacao Venda Nova\", \"siu\": \"\", \"sent\": \"ESTACAO VENDA NOVA\", \"temVeic\": false}, {\"cod\": 14241, \"end\": \"ESTACAO CANDELARIA\", \"siu\": \"12253\", \"sent\": \"ESTACAO VENDA NOVA\", \"temVeic\": false}, {\"cod\": 14249, \"end\": \"ESTACAO MINAS CAIXA\", \"siu\": \"12257\", \"sent\": \"ESTACAO VENDA NOVA\", \"temVeic\": false}, {\"cod\": 14253, \"end\": \"ESTACAO QUADRAS VILARINHO\", \"siu\": \"12261\", \"sent\": \"ESTACAO VENDA NOVA\", \"temVeic\": false}, {\"cod\": 14257, \"end\": \"ESTACAO UPA VENDA NOVA\", \"siu\": \"12265\", \"sent\": \"ESTACAO VENDA NOVA\", \"temVeic\": false}, {\"cod\": 14401, \"end\": \"ESTACAO CRISTIANO GUIMARAES\", \"siu\": \"12277\", \"sent\": \"ESTACAO VENDA NOVA\", \"temVeic\": false}, {\"cod\": 14399, \"end\": \"ESTACAO PLANALTO\", \"siu\": \"12275\", \"sent\": \"ESTACAO VENDA NOVA\", \"temVeic\": false}, {\"cod\": 14395, \"end\": \"ESTACAO SAO JOAO BATISTA\", \"siu\": \"10812\", \"sent\": \"ESTACAO VENDA NOVA\", \"temVeic\": false}, {\"cod\": 14393, \"end\": \"ESTACAO LAGOA DO NADO\", \"siu\": \"12271\", \"sent\": \"ESTACAO VENDA NOVA\", \"temVeic\": false}, {\"cod\": 14397, \"end\": \"ESTACAO MONTESE\", \"siu\": \"12269\", \"sent\": \"ESTACAO VENDA NOVA\", \"temVeic\": false}, {\"cod\": 14391, \"end\": \"ESTACAO MONTE CASTELO\", \"siu\": \"12267\", \"sent\": \"ESTACAO VENDA NOVA\", \"temVeic\": false}, {\"cod\": 97784, \"end\": \"ESTACAO PAMPULHA\", \"siu\": \"\", \"sent\": \"ESTACAO VENDA NOVA\", \"temVeic\": false}, {\"cod\": 12489, \"end\": \"ESTACAO SANTA ROSA\", \"siu\": \"12232\", \"sent\": \"ESTACAO VENDA NOVA\", \"temVeic\": false}, {\"cod\": 12495, \"end\": \"ESTACAO MINEIRAO\", \"siu\": \"12222\", \"sent\": \"ESTACAO VENDA NOVA\", \"temVeic\": false}, {\"cod\": 12499, \"end\": \"ESTACAO UFMG\", \"siu\": \"12216\", \"sent\": \"ESTACAO VENDA NOVA\", \"temVeic\": false}, {\"cod\": 12503, \"end\": \"ESTACAO LIBERDADE\", \"siu\": \"12210\", \"sent\": \"ESTACAO VENDA NOVA\", \"temVeic\": false}, {\"cod\": 12505, \"end\": \"ESTACAO COLEGIO MILITAR\", \"siu\": \"12207\", \"sent\": \"ESTACAO VENDA NOVA\", \"temVeic\": false}, {\"cod\": 12511, \"end\": \"ESTACAO SAO FRANCISCO\", \"siu\": \"12199\", \"sent\": \"ESTACAO VENDA NOVA\", \"temVeic\": false}, {\"cod\": 12516, \"end\": \"ESTACAO CACHOEIRINHA\", \"siu\": \"12197\", \"sent\": \"ESTACAO VENDA NOVA\", \"temVeic\": false}, {\"cod\": 12518, \"end\": \"ESTACAO AMERICO VESPUCIO\", \"siu\": \"12190\", \"sent\": \"ESTACAO VENDA NOVA\", \"temVeic\": false}, {\"cod\": 12526, \"end\": \"ESTACAO APARECIDA\", \"siu\": \"12182\", \"sent\": \"ESTACAO VENDA NOVA\", \"temVeic\": false}, {\"cod\": 12541, \"end\": \"ESTACAO OPERARIOS\", \"siu\": \"12176\", \"sent\": \"ESTACAO VENDA NOVA\", \"temVeic\": false}, {\"cod\": 12532, \"end\": \"ESTACAO HOSPITAL BELO HORIZONTE\", \"siu\": \"12170\", \"sent\": \"ESTACAO VENDA NOVA\", \"temVeic\": false}, {\"cod\": 12533, \"end\": \"ESTACAO IAPI\", \"siu\": \"12168\", \"sent\": \"ESTACAO VENDA NOVA\", \"temVeic\": false}, {\"cod\": 12536, \"end\": \"ESTACAO ODILON BEHRENS\", \"siu\": \"12158\", \"sent\": \"ESTACAO VENDA NOVA\", \"temVeic\": false}, {\"cod\": 12546, \"end\": \"ESTACAO SENAI\", \"siu\": \"12154\", \"sent\": \"ESTACAO VENDA NOVA\", \"temVeic\": false}, {\"cod\": 12545, \"end\": \"ESTACAO SENAI\", \"siu\": \"12155\", \"sent\": \"ESTACAO VENDA NOVA\", \"temVeic\": false}, {\"cod\": 12539, \"end\": \"ESTACAO ODILON BEHRENS\", \"siu\": \"12159\", \"sent\": \"ESTACAO VENDA NOVA\", \"temVeic\": false}, {\"cod\": 12527, \"end\": \"ESTACAO IAPI\", \"siu\": \"12169\", \"sent\": \"ESTACAO VENDA NOVA\", \"temVeic\": false}, {\"cod\": 12530, \"end\": \"ESTACAO HOSPITAL BELO HORIZONTE\", \"siu\": \"12171\", \"sent\": \"ESTACAO VENDA NOVA\", \"temVeic\": false}, {\"cod\": 12540, \"end\": \"ESTACAO OPERARIOS\", \"siu\": \"12177\", \"sent\": \"ESTACAO VENDA NOVA\", \"temVeic\": false}, {\"cod\": 12525, \"end\": \"ESTACAO APARECIDA\", \"siu\": \"12183\", \"sent\": \"ESTACAO VENDA NOVA\", \"temVeic\": false}, {\"cod\": 12517, \"end\": \"ESTACAO AMERICO VESPUCIO\", \"siu\": \"12191\", \"sent\": \"ESTACAO VENDA NOVA\", \"temVeic\": false}, {\"cod\": 12515, \"end\": \"ESTACAO CACHOEIRINHA\", \"siu\": \"12198\", \"sent\": \"ESTACAO VENDA NOVA\", \"temVeic\": false}, {\"cod\": 12510, \"end\": \"ESTACAO SAO FRANCISCO\", \"siu\": \"12200\", \"sent\": \"ESTACAO VENDA NOVA\", \"temVeic\": false}, {\"cod\": 12504, \"end\": \"ESTACAO COLEGIO MILITAR\", \"siu\": \"12208\", \"sent\": \"ESTACAO VENDA NOVA\", \"temVeic\": false}, {\"cod\": 12502, \"end\": \"ESTACAO LIBERDADE\", \"siu\": \"12211\", \"sent\": \"ESTACAO VENDA NOVA\", \"temVeic\": false}, {\"cod\": 12498, \"end\": \"ESTACAO UFMG\", \"siu\": \"12217\", \"sent\": \"ESTACAO VENDA NOVA\", \"temVeic\": false}, {\"cod\": 12494, \"end\": \"ESTACAO MINEIRAO\", \"siu\": \"12223\", \"sent\": \"ESTACAO VENDA NOVA\", \"temVeic\": false}, {\"cod\": 12488, \"end\": \"ESTACAO SANTA ROSA\", \"siu\": \"12233\", \"sent\": \"ESTACAO VENDA NOVA\", \"temVeic\": false}, {\"cod\": 97782, \"end\": \"ESTACAO PAMPULHA\", \"siu\": \"\", \"sent\": \"ESTACAO VENDA NOVA\", \"temVeic\": false}, {\"cod\": 14390, \"end\": \"ESTACAO MONTE CASTELO\", \"siu\": \"12266\", \"sent\": \"ESTACAO VENDA NOVA\", \"temVeic\": false}, {\"cod\": 14396, \"end\": \"ESTACAO MONTESE\", \"siu\": \"12268\", \"sent\": \"ESTACAO VENDA NOVA\", \"temVeic\": false}, {\"cod\": 14392, \"end\": \"ESTACAO LAGOA DO NADO\", \"siu\": \"12270\", \"sent\": \"ESTACAO VENDA NOVA\", \"temVeic\": false}, {\"cod\": 14394, \"end\": \"ESTACAO SAO JOAO BATISTA\", \"siu\": \"12272\", \"sent\": \"ESTACAO VENDA NOVA\", \"temVeic\": false}, {\"cod\": 14398, \"end\": \"ESTACAO PLANALTO\", \"siu\": \"12274\", \"sent\": \"ESTACAO VENDA NOVA\", \"temVeic\": false}, {\"cod\": 14400, \"end\": \"ESTACAO CRISTIANO GUIMARAES\", \"siu\": \"12276\", \"sent\": \"ESTACAO VENDA NOVA\", \"temVeic\": false}, {\"cod\": 14256, \"end\": \"ESTACAO UPA VENDA NOVA\", \"siu\": \"12262\", \"sent\": \"ESTACAO VENDA NOVA\", \"temVeic\": false}, {\"cod\": 14252, \"end\": \"ESTACAO QUADRAS VILARINHO\", \"siu\": \"12258\", \"sent\": \"ESTACAO VENDA NOVA\", \"temVeic\": false}, {\"cod\": 14243, \"end\": \"ESTACAO MINAS CAIXA\", \"siu\": \"12254\", \"sent\": \"ESTACAO VENDA NOVA\", \"temVeic\": false}, {\"cod\": 14242, \"end\": \"ESTACAO CANDELARIA\", \"siu\": \"12250\", \"sent\": \"ESTACAO VENDA NOVA\", \"temVeic\": false}, {\"cod\": 14686, \"end\": \"Estacao Venda Nova\", \"siu\": \"\", \"sent\": \"ESTACAO VENDA NOVA\", \"temVeic\": false}]}))\n",
       "        });\n",
       "        </script>"
      ],
      "text/plain": [
       "<IPython.core.display.HTML object>"
      ]
     },
     "metadata": {},
     "output_type": "display_data"
    }
   ],
   "source": [
    "l = \"63\"\n",
    "\n",
    "def paradas(linha):\n",
    "    cod = get_code(linha)\n",
    "    data = requests.get(pbh_link + 'buscarParadasPorLinha/' + cod + '/0/retornoJSON')\n",
    "    data = data.content.decode(\"utf-8\").replace('retornoJSON(', '')[:-1]\n",
    "    data = json.loads(data)\n",
    "    return data\n",
    "\n",
    "stp = paradas(l)\n",
    "\n",
    "print(\"Paradas da linha \" + l)\n",
    "RenderJSON(stp)"
   ]
  },
  {
   "cell_type": "code",
   "execution_count": 64,
   "metadata": {},
   "outputs": [
    {
     "data": {
      "text/plain": [
       "['Estacao Venda Nova',\n",
       " 'ESTACAO CANDELARIA',\n",
       " 'ESTACAO MINAS CAIXA',\n",
       " 'ESTACAO QUADRAS VILARINHO',\n",
       " 'ESTACAO UPA VENDA NOVA',\n",
       " 'ESTACAO CRISTIANO GUIMARAES',\n",
       " 'ESTACAO PLANALTO',\n",
       " 'ESTACAO SAO JOAO BATISTA',\n",
       " 'ESTACAO LAGOA DO NADO',\n",
       " 'ESTACAO MONTESE',\n",
       " 'ESTACAO MONTE CASTELO',\n",
       " 'ESTACAO PAMPULHA',\n",
       " 'ESTACAO SANTA ROSA',\n",
       " 'ESTACAO MINEIRAO',\n",
       " 'ESTACAO UFMG',\n",
       " 'ESTACAO LIBERDADE',\n",
       " 'ESTACAO COLEGIO MILITAR',\n",
       " 'ESTACAO SAO FRANCISCO',\n",
       " 'ESTACAO CACHOEIRINHA',\n",
       " 'ESTACAO AMERICO VESPUCIO',\n",
       " 'ESTACAO APARECIDA',\n",
       " 'ESTACAO OPERARIOS',\n",
       " 'ESTACAO HOSPITAL BELO HORIZONTE',\n",
       " 'ESTACAO IAPI',\n",
       " 'ESTACAO ODILON BEHRENS',\n",
       " 'ESTACAO SENAI',\n",
       " 'ESTACAO SENAI',\n",
       " 'ESTACAO ODILON BEHRENS',\n",
       " 'ESTACAO IAPI',\n",
       " 'ESTACAO HOSPITAL BELO HORIZONTE',\n",
       " 'ESTACAO OPERARIOS',\n",
       " 'ESTACAO APARECIDA',\n",
       " 'ESTACAO AMERICO VESPUCIO',\n",
       " 'ESTACAO CACHOEIRINHA',\n",
       " 'ESTACAO SAO FRANCISCO',\n",
       " 'ESTACAO COLEGIO MILITAR',\n",
       " 'ESTACAO LIBERDADE',\n",
       " 'ESTACAO UFMG',\n",
       " 'ESTACAO MINEIRAO',\n",
       " 'ESTACAO SANTA ROSA',\n",
       " 'ESTACAO PAMPULHA',\n",
       " 'ESTACAO MONTE CASTELO',\n",
       " 'ESTACAO MONTESE',\n",
       " 'ESTACAO LAGOA DO NADO',\n",
       " 'ESTACAO SAO JOAO BATISTA',\n",
       " 'ESTACAO PLANALTO',\n",
       " 'ESTACAO CRISTIANO GUIMARAES',\n",
       " 'ESTACAO UPA VENDA NOVA',\n",
       " 'ESTACAO QUADRAS VILARINHO',\n",
       " 'ESTACAO MINAS CAIXA',\n",
       " 'ESTACAO CANDELARIA',\n",
       " 'Estacao Venda Nova',\n",
       " 'Estacao Venda Nova',\n",
       " 'ESTACAO CANDELARIA',\n",
       " 'ESTACAO MINAS CAIXA',\n",
       " 'ESTACAO QUADRAS VILARINHO',\n",
       " 'ESTACAO UPA VENDA NOVA',\n",
       " 'Estacao Vilarinho',\n",
       " 'ESTACAO CRISTIANO GUIMARAES',\n",
       " 'ESTACAO PLANALTO',\n",
       " 'ESTACAO SAO JOAO BATISTA',\n",
       " 'ESTACAO LAGOA DO NADO',\n",
       " 'ESTACAO MONTESE',\n",
       " 'ESTACAO MONTE CASTELO',\n",
       " 'ESTACAO PAMPULHA',\n",
       " 'ESTACAO SANTA ROSA',\n",
       " 'ESTACAO MINEIRAO',\n",
       " 'ESTACAO UFMG',\n",
       " 'ESTACAO LIBERDADE',\n",
       " 'ESTACAO COLEGIO MILITAR',\n",
       " 'ESTACAO SAO FRANCISCO',\n",
       " 'ESTACAO CACHOEIRINHA',\n",
       " 'ESTACAO AMERICO VESPUCIO',\n",
       " 'ESTACAO APARECIDA',\n",
       " 'ESTACAO OPERARIOS',\n",
       " 'ESTACAO HOSPITAL BELO HORIZONTE',\n",
       " 'ESTACAO IAPI',\n",
       " 'ESTACAO ODILON BEHRENS',\n",
       " 'ESTACAO SENAI',\n",
       " 'ESTACAO CARIJOS',\n",
       " 'ESTACAO RIO DE JANEIRO',\n",
       " 'ESTACAO SENAI',\n",
       " 'ESTACAO ODILON BEHRENS',\n",
       " 'ESTACAO IAPI',\n",
       " 'ESTACAO HOSPITAL BELO HORIZONTE',\n",
       " 'ESTACAO OPERARIOS',\n",
       " 'ESTACAO APARECIDA',\n",
       " 'ESTACAO AMERICO VESPUCIO',\n",
       " 'ESTACAO CACHOEIRINHA',\n",
       " 'ESTACAO SAO FRANCISCO',\n",
       " 'ESTACAO COLEGIO MILITAR',\n",
       " 'ESTACAO LIBERDADE',\n",
       " 'ESTACAO UFMG',\n",
       " 'ESTACAO MINEIRAO',\n",
       " 'ESTACAO SANTA ROSA',\n",
       " 'ESTACAO PAMPULHA',\n",
       " 'ESTACAO MONTE CASTELO',\n",
       " 'ESTACAO MONTESE',\n",
       " 'ESTACAO LAGOA DO NADO',\n",
       " 'ESTACAO SAO JOAO BATISTA',\n",
       " 'ESTACAO PLANALTO',\n",
       " 'ESTACAO CRISTIANO GUIMARAES',\n",
       " 'Estacao Vilarinho',\n",
       " 'ESTACAO UPA VENDA NOVA',\n",
       " 'ESTACAO QUADRAS VILARINHO',\n",
       " 'ESTACAO MINAS CAIXA',\n",
       " 'ESTACAO CANDELARIA',\n",
       " 'Estacao Venda Nova',\n",
       " 'Estacao Venda Nova',\n",
       " 'RUA PADRE PEDRO PINTO, 1997',\n",
       " 'RUA PADRE PEDRO PINTO, 1699',\n",
       " 'RUA PADRE PEDRO PINTO, 1315',\n",
       " 'RUA PADRE PEDRO PINTO, 951',\n",
       " 'RUA PADRE PEDRO PINTO, 645',\n",
       " 'RUA PADRE PEDRO PINTO, 281',\n",
       " 'Estacao Vilarinho',\n",
       " 'AVE DOM PEDRO I, 2997',\n",
       " 'AVE DOM PEDRO I, 2705',\n",
       " 'AVE DOM PEDRO I, 2221',\n",
       " 'AVE DOM PEDRO I, 2045',\n",
       " 'AVE DOM PEDRO I, 1355',\n",
       " 'AVE DOM PEDRO I, 1151',\n",
       " 'ESTACAO PAMPULHA',\n",
       " 'AVE PRESIDENTE ANTONIO CARLOS, 8271',\n",
       " 'AVE PRESIDENTE ANTONIO CARLOS, 7645',\n",
       " 'AVE PRESIDENTE ANTONIO CARLOS, 6519',\n",
       " 'AVE PRESIDENTE ANTONIO CARLOS, 4303',\n",
       " 'AVE PRESIDENTE ANTONIO CARLOS, 3835',\n",
       " 'AVE PRESIDENTE ANTONIO CARLOS, 3557',\n",
       " 'AVE PRESIDENTE ANTONIO CARLOS, 2715',\n",
       " 'AVE PRESIDENTE ANTONIO CARLOS, 1859',\n",
       " 'AVE PRESIDENTE ANTONIO CARLOS, 1143',\n",
       " 'AVE PRESIDENTE ANTONIO CARLOS, 955',\n",
       " 'AVE PRESIDENTE ANTONIO CARLOS, 561',\n",
       " 'ESTACAO CARIJOS',\n",
       " 'ESTACAO RIO DE JANEIRO',\n",
       " 'AVE PRESIDENTE ANTONIO CARLOS, 618',\n",
       " 'AVE PRESIDENTE ANTONIO CARLOS, 970',\n",
       " 'AVE PRESIDENTE ANTONIO CARLOS, 1280',\n",
       " 'AVE PRESIDENTE ANTONIO CARLOS, 1694',\n",
       " 'AVE PRESIDENTE ANTONIO CARLOS, 2176',\n",
       " 'AVE PRESIDENTE ANTONIO CARLOS, 2782',\n",
       " 'AVE PRESIDENTE ANTONIO CARLOS, 3230',\n",
       " 'AVE PRESIDENTE ANTONIO CARLOS, 3590',\n",
       " 'AVE PRESIDENTE ANTONIO CARLOS, 3860',\n",
       " 'AVE PRESIDENTE ANTONIO CARLOS, 4100',\n",
       " 'AVE PRESIDENTE ANTONIO CARLOS, 4500',\n",
       " 'AVE PRESIDENTE ANTONIO CARLOS, 6386',\n",
       " 'AVE PRESIDENTE ANTONIO CARLOS, 7026',\n",
       " 'AVE PRESIDENTE ANTONIO CARLOS, 7580',\n",
       " 'AVE PRESIDENTE ANTONIO CARLOS, 8100',\n",
       " 'ESTACAO PAMPULHA',\n",
       " 'AVE DOM PEDRO I, 580',\n",
       " 'AVE DOM PEDRO I, 1018',\n",
       " 'AVE DOM PEDRO I, 1220',\n",
       " 'AVE DOM PEDRO I, 1706',\n",
       " 'AVE DOM PEDRO I, 2062',\n",
       " 'AVE DOM PEDRO I, 2140',\n",
       " 'AVE DOM PEDRO I, 2714',\n",
       " 'AVE VILARINHO, 677',\n",
       " 'Estacao Vilarinho',\n",
       " 'RUA PADRE PEDRO PINTO, 644',\n",
       " 'RUA PADRE PEDRO PINTO, 780',\n",
       " 'RUA PADRE PEDRO PINTO, 980',\n",
       " 'RUA PADRE PEDRO PINTO, 1530',\n",
       " 'RUA PADRE PEDRO PINTO, 1988',\n",
       " 'Estacao Venda Nova',\n",
       " 'Estacao Venda Nova',\n",
       " 'ESTACAO CANDELARIA',\n",
       " 'ESTACAO MINAS CAIXA',\n",
       " 'ESTACAO QUADRAS VILARINHO',\n",
       " 'ESTACAO UPA VENDA NOVA',\n",
       " 'ESTACAO CRISTIANO GUIMARAES',\n",
       " 'ESTACAO PLANALTO',\n",
       " 'ESTACAO SAO JOAO BATISTA',\n",
       " 'ESTACAO LAGOA DO NADO',\n",
       " 'ESTACAO MONTESE',\n",
       " 'ESTACAO MONTE CASTELO',\n",
       " 'ESTACAO PAMPULHA',\n",
       " 'ESTACAO SANTA ROSA',\n",
       " 'ESTACAO MINEIRAO',\n",
       " 'ESTACAO UFMG',\n",
       " 'ESTACAO LIBERDADE',\n",
       " 'ESTACAO COLEGIO MILITAR',\n",
       " 'ESTACAO SAO FRANCISCO',\n",
       " 'ESTACAO CACHOEIRINHA',\n",
       " 'ESTACAO AMERICO VESPUCIO',\n",
       " 'ESTACAO APARECIDA',\n",
       " 'ESTACAO OPERARIOS',\n",
       " 'ESTACAO HOSPITAL BELO HORIZONTE',\n",
       " 'ESTACAO IAPI',\n",
       " 'ESTACAO ODILON BEHRENS',\n",
       " 'ESTACAO SENAI',\n",
       " 'ESTACAO RIO DE JANEIRO',\n",
       " 'ESTACAO CARIJOS',\n",
       " 'ESTACAO SENAI',\n",
       " 'ESTACAO ODILON BEHRENS',\n",
       " 'ESTACAO IAPI',\n",
       " 'ESTACAO HOSPITAL BELO HORIZONTE',\n",
       " 'ESTACAO OPERARIOS',\n",
       " 'ESTACAO APARECIDA',\n",
       " 'ESTACAO AMERICO VESPUCIO',\n",
       " 'ESTACAO CACHOEIRINHA',\n",
       " 'ESTACAO SAO FRANCISCO',\n",
       " 'ESTACAO COLEGIO MILITAR',\n",
       " 'ESTACAO LIBERDADE',\n",
       " 'ESTACAO UFMG',\n",
       " 'ESTACAO MINEIRAO',\n",
       " 'ESTACAO SANTA ROSA',\n",
       " 'ESTACAO PAMPULHA',\n",
       " 'ESTACAO MONTE CASTELO',\n",
       " 'ESTACAO MONTESE',\n",
       " 'ESTACAO LAGOA DO NADO',\n",
       " 'ESTACAO SAO JOAO BATISTA',\n",
       " 'ESTACAO PLANALTO',\n",
       " 'ESTACAO CRISTIANO GUIMARAES',\n",
       " 'ESTACAO UPA VENDA NOVA',\n",
       " 'ESTACAO QUADRAS VILARINHO',\n",
       " 'ESTACAO MINAS CAIXA',\n",
       " 'ESTACAO CANDELARIA',\n",
       " 'Estacao Venda Nova',\n",
       " 'Estacao Venda Nova',\n",
       " 'ESTACAO CANDELARIA',\n",
       " 'ESTACAO MINAS CAIXA',\n",
       " 'ESTACAO QUADRAS VILARINHO',\n",
       " 'ESTACAO UPA VENDA NOVA',\n",
       " 'ESTACAO CRISTIANO GUIMARAES',\n",
       " 'ESTACAO PLANALTO',\n",
       " 'ESTACAO SAO JOAO BATISTA',\n",
       " 'ESTACAO LAGOA DO NADO',\n",
       " 'ESTACAO MONTESE',\n",
       " 'ESTACAO MONTE CASTELO',\n",
       " 'ESTACAO PAMPULHA',\n",
       " 'ESTACAO SANTA ROSA',\n",
       " 'ESTACAO MINEIRAO',\n",
       " 'ESTACAO UFMG',\n",
       " 'ESTACAO LIBERDADE',\n",
       " 'ESTACAO COLEGIO MILITAR',\n",
       " 'ESTACAO SAO FRANCISCO',\n",
       " 'ESTACAO CACHOEIRINHA',\n",
       " 'ESTACAO AMERICO VESPUCIO',\n",
       " 'ESTACAO APARECIDA',\n",
       " 'ESTACAO OPERARIOS',\n",
       " 'ESTACAO HOSPITAL BELO HORIZONTE',\n",
       " 'ESTACAO IAPI',\n",
       " 'ESTACAO ODILON BEHRENS',\n",
       " 'ESTACAO SENAI',\n",
       " 'ESTACAO SENAI',\n",
       " 'ESTACAO ODILON BEHRENS',\n",
       " 'ESTACAO IAPI',\n",
       " 'ESTACAO HOSPITAL BELO HORIZONTE',\n",
       " 'ESTACAO OPERARIOS',\n",
       " 'ESTACAO APARECIDA',\n",
       " 'ESTACAO AMERICO VESPUCIO',\n",
       " 'ESTACAO CACHOEIRINHA',\n",
       " 'ESTACAO SAO FRANCISCO',\n",
       " 'ESTACAO COLEGIO MILITAR',\n",
       " 'ESTACAO LIBERDADE',\n",
       " 'ESTACAO UFMG',\n",
       " 'ESTACAO MINEIRAO',\n",
       " 'ESTACAO SANTA ROSA',\n",
       " 'ESTACAO PAMPULHA',\n",
       " 'ESTACAO MONTE CASTELO',\n",
       " 'ESTACAO MONTESE',\n",
       " 'ESTACAO LAGOA DO NADO',\n",
       " 'ESTACAO SAO JOAO BATISTA',\n",
       " 'ESTACAO PLANALTO',\n",
       " 'ESTACAO CRISTIANO GUIMARAES',\n",
       " 'ESTACAO UPA VENDA NOVA',\n",
       " 'ESTACAO QUADRAS VILARINHO',\n",
       " 'ESTACAO MINAS CAIXA',\n",
       " 'ESTACAO CANDELARIA',\n",
       " 'Estacao Venda Nova']"
      ]
     },
     "execution_count": 64,
     "metadata": {},
     "output_type": "execute_result"
    }
   ],
   "source": [
    "stp2 = stp[\"paradas\"]\n",
    "paradas = [i[\"end\"] for i in stp2]\n",
    "paradas"
   ]
  },
  {
   "cell_type": "code",
   "execution_count": null,
   "metadata": {},
   "outputs": [],
   "source": [
    "previsoes(get_code(68))"
   ]
  },
  {
   "cell_type": "code",
   "execution_count": null,
   "metadata": {},
   "outputs": [],
   "source": []
  }
 ],
 "metadata": {
  "kernelspec": {
   "display_name": "Python 3",
   "language": "python",
   "name": "python3"
  },
  "language_info": {
   "codemirror_mode": {
    "name": "ipython",
    "version": 3
   },
   "file_extension": ".py",
   "mimetype": "text/x-python",
   "name": "python",
   "nbconvert_exporter": "python",
   "pygments_lexer": "ipython3",
   "version": "3.7.3"
  }
 },
 "nbformat": 4,
 "nbformat_minor": 2
}
