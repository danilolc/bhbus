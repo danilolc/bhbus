{
 "cells": [
  {
   "cell_type": "markdown",
   "metadata": {},
   "source": [
    "# Código para acessar as previsões dos ônibus de Belo Horizonte\n"
   ]
  },
  {
   "cell_type": "code",
   "execution_count": 19,
   "metadata": {},
   "outputs": [],
   "source": [
    "import requests\n",
    "import json\n",
    "from collections import namedtuple\n",
    "import sys\n",
    "from RenderJSON import RenderJSON"
   ]
  },
  {
   "cell_type": "markdown",
   "metadata": {},
   "source": [
    "Link da API:"
   ]
  },
  {
   "cell_type": "code",
   "execution_count": 20,
   "metadata": {},
   "outputs": [],
   "source": [
    "pbh_link = 'http://mobile-l.sitbus.com.br:6060/siumobile-ws-v01/rest/ws/'"
   ]
  },
  {
   "cell_type": "code",
   "execution_count": 21,
   "metadata": {},
   "outputs": [],
   "source": [
    "#Transforma o json recebido em namedtruple\n",
    "\n",
    "def decode(data):\n",
    "    return json.loads(data, object_hook=lambda d: namedtuple('X', d.keys())(*d.values()))"
   ]
  },
  {
   "cell_type": "code",
   "execution_count": 22,
   "metadata": {},
   "outputs": [],
   "source": [
    "#Retorna as previsões de uma dada estação\n",
    "def previsoes(cod):\n",
    "    prev = requests.get(pbh_link + 'buscarPrevisoes/'+str(cod)+'/0/retornoJSON')\n",
    "    prev = prev.content.replace('retornoJSON(', '')[:-1]\n",
    "    prev = decode(prev)\n",
    "    return prev.previsoes"
   ]
  },
  {
   "cell_type": "code",
   "execution_count": null,
   "metadata": {},
   "outputs": [],
   "source": [
    "\n"
   ]
  },
  {
   "cell_type": "code",
   "execution_count": 23,
   "metadata": {},
   "outputs": [],
   "source": [
    "#est = estacoes(linha)\n",
    "#for x in range(0, len(est)):\n",
    "#    print(est[x].end)\n",
    "#    prev_est = previsoes(est[x].cod)\n",
    "#    for y in range(0, len(prev_est)):\n",
    "#        if prev_est[y].sgLin==str(linha):\n",
    "#        print(prev_est[y].sgLin + ' - '+ prev_est[y].prev + '; ')"
   ]
  },
  {
   "cell_type": "code",
   "execution_count": 24,
   "metadata": {},
   "outputs": [
    {
     "data": {
      "text/html": [
       "<div id=\"2bd389c0-61d1-4c3e-8afb-ccc0c18f0a41\" style=\"height: auto; width:100%;\"></div>"
      ],
      "text/plain": [
       "<IPython.core.display.HTML object>"
      ]
     },
     "metadata": {},
     "output_type": "display_data"
    },
    {
     "data": {
      "text/html": [
       "<script>\n",
       "        require(['https://rawgit.com/caldwell/renderjson/master/renderjson.js'],\n",
       "        function() {\n",
       "          renderjson.set_show_to_level(1)\n",
       "          document.getElementById('2bd389c0-61d1-4c3e-8afb-ccc0c18f0a41').appendChild(renderjson({\"sucesso\":true,\"linhas\":[{\"cod\":\"5\",\"sgl\":\"101\",\"nom\":\"AGLOMERADO SANTA LUCIA\"},{\"cod\":\"7\",\"sgl\":\"102\",\"nom\":\"NOSSA SENHORA DE FATIMA/HOSPITAL EVANGELICO\"},{\"cod\":\"9\",\"sgl\":\"103\",\"nom\":\"VILA CAFEZAL/RUA POUSO ALTO\"},{\"cod\":\"11\",\"sgl\":\"1030\",\"nom\":\"AVENIDA\"},{\"cod\":\"869\",\"sgl\":\"104\",\"nom\":\"AVENIDA\"},{\"cod\":\"1420\",\"sgl\":\"105\",\"nom\":\"ESTAÇÃO CENTRAL/LOURDES\"},{\"cod\":\"2116\",\"sgl\":\"107\",\"nom\":\"VILA MARÇOLA / RUA DO OURO\"},{\"cod\":\"32\",\"sgl\":\"1145\",\"nom\":\"BAIRRO DAS INDUSTRIAS\"},{\"cod\":\"42\",\"sgl\":\"1170\",\"nom\":\"SANTA LUCIA/MANGABEIRAS\"},{\"cod\":\"53\",\"sgl\":\"1404A\",\"nom\":\"PALMEIRAS/ALIPIO DE MELO\"},{\"cod\":\"56\",\"sgl\":\"1404B\",\"nom\":\"ESTRELA DO ORIENTE / JARDIM INCONFIDENCIA\"},{\"cod\":\"58\",\"sgl\":\"1404C\",\"nom\":\"PALMEIRAS / SAO SALVADOR\"},{\"cod\":\"65\",\"sgl\":\"1502\",\"nom\":\"VISTA ALEGRE / GUARANI\"},{\"cod\":\"67\",\"sgl\":\"1505\",\"nom\":\"ALTO DOS PINHEIROS/TUPI\"},{\"cod\":\"71\",\"sgl\":\"1505R\",\"nom\":\"CENTRO/CONJUNTO FELICIDADE\"},{\"cod\":\"75\",\"sgl\":\"1509\",\"nom\":\"CALIFORNIA/TUPI\"},{\"cod\":\"78\",\"sgl\":\"1510\",\"nom\":\"MADRE GERTRUDES/PROVIDENCIA\"},{\"cod\":\"80\",\"sgl\":\"201\",\"nom\":\"MORRO DAS PEDRAS\"},{\"cod\":\"83\",\"sgl\":\"202\",\"nom\":\"ESTACAO VILA OESTE\"},{\"cod\":\"85\",\"sgl\":\"203\",\"nom\":\"MORRO DAS PEDRAS/VENTOSA\"},{\"cod\":\"5627\",\"sgl\":\"2033\",\"nom\":\"BETÂNIA / CENTRO\"},{\"cod\":\"5629\",\"sgl\":\"2034\",\"nom\":\"CONJUNTO BETÂNIA / CENTRO\"},{\"cod\":\"5631\",\"sgl\":\"2035\",\"nom\":\"BAIRRO DAS INDÚSTRIAS / CENTRO\"},{\"cod\":\"87\",\"sgl\":\"204\",\"nom\":\"ESTACAO VILA OESTE / NOVA GAMELEIRA\"},{\"cod\":\"871\",\"sgl\":\"205\",\"nom\":\"METRO CALAFATE/ BURITIS\"},{\"cod\":\"2555\",\"sgl\":\"206\",\"nom\":\"CIRCULAR OESTE\"},{\"cod\":\"6639\",\"sgl\":\"208\",\"nom\":\"BETÂNIA/BARREIRO VIA NOVO DAS INDUSTRIAS\"},{\"cod\":\"89\",\"sgl\":\"2101\",\"nom\":\"GRAJAU/SION\"},{\"cod\":\"92\",\"sgl\":\"2102\",\"nom\":\"GAMELEIRA / SERRA\"},{\"cod\":\"96\",\"sgl\":\"2103\",\"nom\":\"PRADO/ANCHIETA\"},{\"cod\":\"99\",\"sgl\":\"2104\",\"nom\":\"NOVA GAMELEIRA/BH SHOPPING\"},{\"cod\":\"104\",\"sgl\":\"2150\",\"nom\":\"GRAJAU/SION VIA CONTORNO\"},{\"cod\":\"106\",\"sgl\":\"2151\",\"nom\":\"VISTA ALEGRE/SERRA\"},{\"cod\":\"108\",\"sgl\":\"2152\",\"nom\":\"SALGADO FILHO/CRUZEIRO\"},{\"cod\":\"205\",\"sgl\":\"30\",\"nom\":\"ESTACAO DIAMANTE/CENTRO\"},{\"cod\":\"220\",\"sgl\":\"301\",\"nom\":\"EST. DIAMANTE/NOVO STA CECÍLIA VIA BR INDUSTRIAL\"},{\"cod\":\"224\",\"sgl\":\"302\",\"nom\":\"ESTAÇÃO DIAMANTE / VILA PINHO\"},{\"cod\":\"4017\",\"sgl\":\"3029\",\"nom\":\"REGINA / CENTRO\"},{\"cod\":\"228\",\"sgl\":\"303\",\"nom\":\"SANTA CECILIA/CASTANHEIRAS\"},{\"cod\":\"5712\",\"sgl\":\"3030\",\"nom\":\"PILAR - OLHOS D ÁGUA / CENTRO\"},{\"cod\":\"231\",\"sgl\":\"304\",\"nom\":\"EST. DIAMANTE / JATOBA IV\"},{\"cod\":\"233\",\"sgl\":\"305\",\"nom\":\"MANGUEIRAS\"},{\"cod\":\"237\",\"sgl\":\"3050\",\"nom\":\"ESTACAO DIAMANTE/HOSPITAL VIA BH SHOPPING\"},{\"cod\":\"242\",\"sgl\":\"3051\",\"nom\":\"FLAVIO MARQUES LISBOA / SAVASSI VIA N.S.CARMO\"},{\"cod\":\"244\",\"sgl\":\"3052\",\"nom\":\"EST.DIAMANTE/BH SHOP.- HAVAI\"},{\"cod\":\"903\",\"sgl\":\"3053\",\"nom\":\"EST.BARREIRO/BARRO PRETO-AMAZONAS\"},{\"cod\":\"906\",\"sgl\":\"3054\",\"nom\":\"MILIONARIOS/CENTRO\"},{\"cod\":\"1113\",\"sgl\":\"3055\",\"nom\":\"ESTACAO BARREIRO/SAVASSI VIA BHSHOPPING\"},{\"cod\":\"248\",\"sgl\":\"308\",\"nom\":\"TIROL\"},{\"cod\":\"252\",\"sgl\":\"309\",\"nom\":\"BAIRRO PETROPOLIS\"},{\"cod\":\"259\",\"sgl\":\"310\",\"nom\":\"3 E 4 SECAO\"},{\"cod\":\"263\",\"sgl\":\"311\",\"nom\":\"MORADA DA SERRA\"},{\"cod\":\"265\",\"sgl\":\"313\",\"nom\":\"DIAMANTE/OLARIA\"},{\"cod\":\"267\",\"sgl\":\"314\",\"nom\":\"SANTA HELENA/TEIXEIRA DIAS\"},{\"cod\":\"925\",\"sgl\":\"315\",\"nom\":\"BARREIRO / ESTAÇÃO BARREIRO\"},{\"cod\":\"4019\",\"sgl\":\"3150\",\"nom\":\"REGINA-LINDÉIA/ BH SHOPP- ANEL\"},{\"cod\":\"274\",\"sgl\":\"318\",\"nom\":\"EST. BARR./J.LIBERDADE VIA MILIONARIOS\"},{\"cod\":\"279\",\"sgl\":\"319\",\"nom\":\"VILA CEMIG/CONJ.ESPERANCA\"},{\"cod\":\"928\",\"sgl\":\"32\",\"nom\":\"ESTAÇÃO BARREIRO / CENTRO- TAMOIOS\"},{\"cod\":\"282\",\"sgl\":\"320\",\"nom\":\"ESCOLA ESTADUAL AMARO NEVES\"},{\"cod\":\"284\",\"sgl\":\"321\",\"nom\":\"OLHOS D AGUA / PILAR\"},{\"cod\":\"912\",\"sgl\":\"325\",\"nom\":\"FLAVIO MARQUES/ ESTAÇÃO BARREIRO\"},{\"cod\":\"916\",\"sgl\":\"326\",\"nom\":\"VALE DO JATOBA / ESTAÇÃO BARREIRO\"},{\"cod\":\"918\",\"sgl\":\"327\",\"nom\":\"CARDOSO A / ESTAÇÃO BARREIRO\"},{\"cod\":\"921\",\"sgl\":\"328\",\"nom\":\"CARDOSO B / ESTAÇÃO BARREIRO\"},{\"cod\":\"923\",\"sgl\":\"329\",\"nom\":\"JATOBA / ESTAÇÃO BARREIRO\"},{\"cod\":\"897\",\"sgl\":\"33\",\"nom\":\"ESTAÇÃO BARREIRO/ CENTRO- HOSPITAIS\"},{\"cod\":\"933\",\"sgl\":\"330\",\"nom\":\"INDEPENDENCIA / ESTAÇÃO BARREIRO\"},{\"cod\":\"287\",\"sgl\":\"3301A\",\"nom\":\"SANTA TEREZINHA\"},{\"cod\":\"289\",\"sgl\":\"3301B\",\"nom\":\"CASTELO\"},{\"cod\":\"291\",\"sgl\":\"3302A\",\"nom\":\"NOVA PAMPULHA VIA ITAMARATI\"},{\"cod\":\"295\",\"sgl\":\"3302B\",\"nom\":\"BRAÚNAS VIA ITAMARATI\"},{\"cod\":\"298\",\"sgl\":\"3302D\",\"nom\":\"BRAUNAS\"},{\"cod\":\"935\",\"sgl\":\"331\",\"nom\":\" ESTAÇÃO BARREIRO/CONJ. ANT. TEIXEIRA DIAS VIA UPA\"},{\"cod\":\"937\",\"sgl\":\"332\",\"nom\":\" ESTAÇÃO BARREIRO /  MILIONARIOS - BONSUCESSO\"},{\"cod\":\"1318\",\"sgl\":\"335\",\"nom\":\"ESTAÇÃO BARREIRO/LINDÉIA\"},{\"cod\":\"909\",\"sgl\":\"3350\",\"nom\":\"ESTAÇÃO BARREIRO/ ESTAÇÃO DIAMANTE\"},{\"cod\":\"2185\",\"sgl\":\"336\",\"nom\":\"HOSP.EDU.MENEZES/VILA BERNADETE\"},{\"cod\":\"3996\",\"sgl\":\"337\",\"nom\":\"ESTAÇÃO BARREIRO / ITAIPÚ\"},{\"cod\":\"968\",\"sgl\":\"34\",\"nom\":\"ESTAÇÃO BARREIRO / VIA EXPRESSA \"},{\"cod\":\"4014\",\"sgl\":\"340\",\"nom\":\"ESTAÇÃO BARREIRO /  VILA MANGUEIRA\"},{\"cod\":\"3994\",\"sgl\":\"341\",\"nom\":\"ESTAÇÃO BARREIRO / ESTAÇÃO DIAMANTE VIA SAÚDE\"},{\"cod\":\"3998\",\"sgl\":\"342\",\"nom\":\"ESTAÇÃO BARREIRO / SOLAR VIA ESTAÇÃO  DIAMANTE  \"},{\"cod\":\"985\",\"sgl\":\"35\",\"nom\":\"ESTAÇÃO BARREIRO/ CENTRO - VIA SANTOS DUMONT\"},{\"cod\":\"754\",\"sgl\":\"3501A\",\"nom\":\"JARDIM ALVORADA/SAO MARCOS\"},{\"cod\":\"302\",\"sgl\":\"3501B\",\"nom\":\"OURO PRETO 3A GLEBA/BAIRRO IPE VIA JD. MONTANHES\"},{\"cod\":\"304\",\"sgl\":\"3502\",\"nom\":\"OURO PRETO/SAO GABRIEL\"},{\"cod\":\"306\",\"sgl\":\"3503A\",\"nom\":\"SANTA TEREZINHA/SAO GABRIEL\"},{\"cod\":\"311\",\"sgl\":\"401\",\"nom\":\"METRO CID.INDUSTRIAL/S.MARIA\"},{\"cod\":\"314\",\"sgl\":\"402\",\"nom\":\"METRO CID.INDUSTRIAL/CAMARGOS\"},{\"cod\":\"961\",\"sgl\":\"4031\",\"nom\":\"SANTA MARIA / HOSPITAIS\"},{\"cod\":\"325\",\"sgl\":\"4032\",\"nom\":\"CAICARA /SAVASSI/ PCA. DA LIBERDADE\"},{\"cod\":\"328\",\"sgl\":\"4033\",\"nom\":\"CAMARGOS/CENTRO\"},{\"cod\":\"330\",\"sgl\":\"4034\",\"nom\":\"NOVO DOM BOSCO / SAVASSI VIA PADRE EUSTAQUIO\"},{\"cod\":\"5715\",\"sgl\":\"4037\",\"nom\":\"NOSSA SENHORA DA GLÓRIA / CENTRO\"},{\"cod\":\"5705\",\"sgl\":\"406\",\"nom\":\"ESTAÇÃO PTO SÃO JOSÉ/PINDORAMA - VIA N.SRA GLÓRIA\"},{\"cod\":\"733\",\"sgl\":\"4102\",\"nom\":\"APARECIDA/SERRA\"},{\"cod\":\"333\",\"sgl\":\"4103\",\"nom\":\"APARECIDA/MANGABEIRAS\"},{\"cod\":\"336\",\"sgl\":\"4106\",\"nom\":\"SAO CRISTOVAO/SANTO ANTONIO\"},{\"cod\":\"339\",\"sgl\":\"4107\",\"nom\":\"ALTO CAICARA/SERRA\"},{\"cod\":\"344\",\"sgl\":\"4108\",\"nom\":\"PEDRO II / MANGABEIRAS\"},{\"cod\":\"736\",\"sgl\":\"4110\",\"nom\":\"DOM CABRAL/FAC. MILTON CAMPOS VIA BELVEDERE\"},{\"cod\":\"738\",\"sgl\":\"4111\",\"nom\":\"DOM CABRAL/ANCHIETA\"},{\"cod\":\"347\",\"sgl\":\"4113\",\"nom\":\"BOM JESUS/BELVEDERE\"},{\"cod\":\"742\",\"sgl\":\"4114\",\"nom\":\"BONFIM / CENTRO\"},{\"cod\":\"350\",\"sgl\":\"4150\",\"nom\":\"SHOPPING DEL REY/BH SHOPPING\"},{\"cod\":\"352\",\"sgl\":\"4201\",\"nom\":\"ALTO CAICARA/NOVA CINTRA\"},{\"cod\":\"354\",\"sgl\":\"4205\",\"nom\":\"ERMELINDA/SALGADO FILHO\"},{\"cod\":\"356\",\"sgl\":\"4403A\",\"nom\":\"ZOOLOGICO VIA SERRANO\"},{\"cod\":\"359\",\"sgl\":\"4403C\",\"nom\":\"RESIDENCIAL SARANDI\"},{\"cod\":\"361\",\"sgl\":\"4403D\",\"nom\":\"URCA-CONFISCO\"},{\"cod\":\"363\",\"sgl\":\"4405\",\"nom\":\"COQUEIROS\"},{\"cod\":\"367\",\"sgl\":\"4410\",\"nom\":\"SERRANO\"},{\"cod\":\"371\",\"sgl\":\"4501\",\"nom\":\"CALIFORNIA II / SAO PAULO\"},{\"cod\":\"373\",\"sgl\":\"4801A\",\"nom\":\"JARDIM FILADELFIA/BOA VISTA A\"},{\"cod\":\"375\",\"sgl\":\"4802A\",\"nom\":\"PINDORAMA/BOA VISTA\"},{\"cod\":\"5482\",\"sgl\":\"50\",\"nom\":\"EST. PAMPULHA/CENTRO-DIRETA\"},{\"cod\":\"379\",\"sgl\":\"503\",\"nom\":\"ESTAÇÃO SÃO GABRIEL/APARECIDA/SANTA ROSA\"},{\"cod\":\"385\",\"sgl\":\"5031\",\"nom\":\"SUZANA/UNIVERSITARIO/PCA DA LIBERDADE\"},{\"cod\":\"7120\",\"sgl\":\"5033\",\"nom\":\"STA TEREZINHA/PÇA. DA LIBERDADE VIA TANC. NEVES \"},{\"cod\":\"388\",\"sgl\":\"504\",\"nom\":\"ESTAÇÃO SÃO GABRIEL/SANTA ROSA/APARECIDA\"},{\"cod\":\"5320\",\"sgl\":\"506\",\"nom\":\"ESTAÇÃO PONTO SÃO JOSÉ / AV. ANTÔNIO CARLOS\"},{\"cod\":\"3699\",\"sgl\":\"507\",\"nom\":\"OURO PRETO / SHOPPING DEL REY\"},{\"cod\":\"5562\",\"sgl\":\"51\",\"nom\":\"EST.PAMPULHA/CENTRO/HOSPITAIS\"},{\"cod\":\"5561\",\"sgl\":\"510\",\"nom\":\"EST.PAMPULHA/TREVO VIA GARÇAS\"},{\"cod\":\"390\",\"sgl\":\"5101\",\"nom\":\"SUZANA/CRUZEIRO\"},{\"cod\":\"393\",\"sgl\":\"5102\",\"nom\":\"UFMG/SANTO ANTONIO\"},{\"cod\":\"7078\",\"sgl\":\"5104\",\"nom\":\"SUZANA/CRUZEIRO-VIA UNIVERSITÁRIO  \"},{\"cod\":\"5699\",\"sgl\":\"5106\",\"nom\":\"BANDEIRANTES/BH SHOPPING\"},{\"cod\":\"7139\",\"sgl\":\"5107\",\"nom\":\"ESTAÇÃO PAMPULHA/SAVASSI\"},{\"cod\":\"5707\",\"sgl\":\"511\",\"nom\":\"ESTAÇÃO PONTO SÃO JOSÉ / JARDIM ALVORADA\"},{\"cod\":\"5568\",\"sgl\":\"52\",\"nom\":\"EST. PAMPULHA / AV. ANTONIO CARLOS\"},{\"cod\":\"399\",\"sgl\":\"5201\",\"nom\":\"DONA CLARA/BURITIS\"},{\"cod\":\"7118\",\"sgl\":\"5203\",\"nom\":\"CASTELO/ESTRELA DO ORIENTE VIA MANACÁS \"},{\"cod\":\"5617\",\"sgl\":\"5250\",\"nom\":\"EST. PAMPULHA / BETANIA\"},{\"cod\":\"3701\",\"sgl\":\"533\",\"nom\":\"CASTELO / SHOPPING DEL REY\"},{\"cod\":\"3703\",\"sgl\":\"535\",\"nom\":\"XANGRILÁ VIA ITAMARATI / SHOPPING DEL REY\"},{\"cod\":\"401\",\"sgl\":\"5401\",\"nom\":\"SAO LUIS/DOM CABRAL\"},{\"cod\":\"5818\",\"sgl\":\"55\",\"nom\":\"MOVE MINEIRÃO\"},{\"cod\":\"762\",\"sgl\":\"5502C\",\"nom\":\"POUSADA SANTO ANTONIO\"},{\"cod\":\"403\",\"sgl\":\"5503A\",\"nom\":\"GOIANIA A\"},{\"cod\":\"408\",\"sgl\":\"5503B\",\"nom\":\"GOIANIA B\"},{\"cod\":\"415\",\"sgl\":\"5506A\",\"nom\":\"RIBEIRO DE ABREU\"},{\"cod\":\"5674\",\"sgl\":\"5550\",\"nom\":\"EST. PAMPULHA / EST.SÃO JOSÉ\"},{\"cod\":\"5816\",\"sgl\":\"6030\",\"nom\":\"CIDADE ADMINISTRATIVA/SAVASSI - VIA HOSPITAIS\"},{\"cod\":\"6142\",\"sgl\":\"6031\",\"nom\":\"CIDADE ADMINISTRATIVA/CENTRO\"},{\"cod\":\"767\",\"sgl\":\"607\",\"nom\":\"ESPLENDOR / JAQUELINE\"},{\"cod\":\"489\",\"sgl\":\"608\",\"nom\":\"ESTAÇÃO VENDA NOVA/NOVA PAMPULHA\"},{\"cod\":\"492\",\"sgl\":\"609\",\"nom\":\"SERRA VERDE/SANTA MONICA\"},{\"cod\":\"494\",\"sgl\":\"61\",\"nom\":\"EST. VENDA NOVA/CENTRO-DIRETA\"},{\"cod\":\"5565\",\"sgl\":\"614\",\"nom\":\"ESTAÇÃO PAMPULHA / CÉU AZUL A\"},{\"cod\":\"5571\",\"sgl\":\"615\",\"nom\":\"ESTAÇÃO PAMPULHA / CÉU AZUL B\"},{\"cod\":\"5573\",\"sgl\":\"616\",\"nom\":\"ESTAÇÃO PAMPULHA / CÉU AZUL C\"},{\"cod\":\"5599\",\"sgl\":\"617\",\"nom\":\"ESTAÇÃO PAMPULHA/PIRATININGA VIA RIO BRANCO\"},{\"cod\":\"5576\",\"sgl\":\"618\",\"nom\":\"ESTAÇÃO PAMPULHA/RIO BRANCO VIA JARDIM LEBLON\"},{\"cod\":\"5604\",\"sgl\":\"619\",\"nom\":\"ESTAÇÃO PAMPULHA/SANTA MÔNICA VIA SANTA BRANCA\"},{\"cod\":\"501\",\"sgl\":\"62\",\"nom\":\"EST.VENDA NOVA/SAVASSI-HOSPITAIS\"},{\"cod\":\"5606\",\"sgl\":\"620\",\"nom\":\"ESTAÇÃO PAMPULHA/SANTA MÔNICA VIA SANTA AMÉLIA\"},{\"cod\":\"504\",\"sgl\":\"621\",\"nom\":\"LAGOA/ESTACAO VENDA NOVA\"},{\"cod\":\"507\",\"sgl\":\"622\",\"nom\":\"LAGOINHA/ESTACAO VENDA NOVA\"},{\"cod\":\"512\",\"sgl\":\"623\",\"nom\":\"VILA SANTA BRANCA/ESTACAO VENDA NOVA\"},{\"cod\":\"515\",\"sgl\":\"624\",\"nom\":\"MARIA HELENA A/ESTACAO VENDA NOVA\"},{\"cod\":\"520\",\"sgl\":\"625\",\"nom\":\"MARIA HELENA B/ESTACAO VENDA NOVA\"},{\"cod\":\"525\",\"sgl\":\"626\",\"nom\":\"ESTAÇÃO VENDA NOVA/ ESPLENDOR - VIA NOVA AMERICA\"},{\"cod\":\"531\",\"sgl\":\"627\",\"nom\":\"ESTAÇÃO VENDA NOVA / MANTIQUEIRA\"},{\"cod\":\"540\",\"sgl\":\"63\",\"nom\":\"EST.VENDA NOVA/LAGOINHA\"},{\"cod\":\"543\",\"sgl\":\"630\",\"nom\":\"ESTAÇÃO VILARINHO/SERRA VERDE - VIA  AV.SALAMANCA\"},{\"cod\":\"545\",\"sgl\":\"631\",\"nom\":\"ESTAÇÃO VILARINHO / SERRA VERDE - VIA MINAS CAIXA\"},{\"cod\":\"547\",\"sgl\":\"633\",\"nom\":\"ESTAÇÃO VILARINHO / JARDIM DOS COMERCIARIOS\"},{\"cod\":\"1904\",\"sgl\":\"634\",\"nom\":\"EST. VILARINHO / NOVA  YORK - VIA  J. COMERCIÁRIOS\"},{\"cod\":\"1906\",\"sgl\":\"635\",\"nom\":\"ESTAÇÃO VILARINHO / JARDIM DOS COMERCIÁRIOS C\"},{\"cod\":\"4022\",\"sgl\":\"6350\",\"nom\":\"EST.VILAR./EST.BARREIRO-VIA ANEL\"},{\"cod\":\"1908\",\"sgl\":\"636\",\"nom\":\"ESTAÇÃO VILARINHO / JARDIM EUROPA \"},{\"cod\":\"1862\",\"sgl\":\"637\",\"nom\":\" EST.VILARINHO/CANAÃ - VIA SERRA VERDE\"},{\"cod\":\"3748\",\"sgl\":\"638\",\"nom\":\"ESTAÇÃO VILARINHO / MINAS CAIXA\"},{\"cod\":\"3705\",\"sgl\":\"639\",\"nom\":\"BRAUNAS / SHOPPING DEL REY\"},{\"cod\":\"549\",\"sgl\":\"64\",\"nom\":\"EST.V.NOVA/ASSEMB.VIA CARLOS LUZ\"},{\"cod\":\"1910\",\"sgl\":\"640\",\"nom\":\"ESTAÇÃO VENDA NOVA/JARDIM LEBLON VIA RIO BRANCO \"},{\"cod\":\"3895\",\"sgl\":\"641\",\"nom\":\"ESTAÇÃO VILARINHO /  SERRA VERDE\"},{\"cod\":\"4179\",\"sgl\":\"642\",\"nom\":\"EST.V.NOVA/EST.VILAR./CID.ADM.\"},{\"cod\":\"5579\",\"sgl\":\"643\",\"nom\":\"ESTAÇÃO PAMPULHA/COPACABANA - VIA MONTE CARMELO\"},{\"cod\":\"5608\",\"sgl\":\"644\",\"nom\":\"ESTAÇÃO PAMPULHA/SÃO JOÃO BATISTA\"},{\"cod\":\"5582\",\"sgl\":\"645\",\"nom\":\"EST. PAMPULHA /SANTA MÔNICA - VIA JARDIM ATLÂNTICO\"},{\"cod\":\"3739\",\"sgl\":\"65\",\"nom\":\"EST.VILAR./CENTRO-A.CARLOS/DIRETA\"},{\"cod\":\"4234\",\"sgl\":\"66\",\"nom\":\"EST. VILARINHO/CENTRO/HOSP/VIA C.MACHADO\"},{\"cod\":\"4660\",\"sgl\":\"67\",\"nom\":\"EST.VILAR./STO AGOST./AV.CARLOS LUZ\"},{\"cod\":\"5776\",\"sgl\":\"68\",\"nom\":\"EST. VILARINHO / LAGOINHA\"},{\"cod\":\"557\",\"sgl\":\"702\",\"nom\":\"ESTAÇÃO SÃO GABRIEL/XODO-MARIZE\"},{\"cod\":\"1622\",\"sgl\":\"703\",\"nom\":\"ESTAÇÃO SÃO GABRIEL/GUARANI\"},{\"cod\":\"802\",\"sgl\":\"705\",\"nom\":\"ESTACAO SAO GABRIEL/SAO TOMAZ\"},{\"cod\":\"806\",\"sgl\":\"706\",\"nom\":\"ESTACAO SAO GABRIEL/ HELIOPOLIS\"},{\"cod\":\"809\",\"sgl\":\"707\",\"nom\":\"ESTACAO SAO GABRIEL/JARDIM GUANABARA\"},{\"cod\":\"812\",\"sgl\":\"708\",\"nom\":\"EST. SAO GABRIEL / FELICIDADE\"},{\"cod\":\"3674\",\"sgl\":\"709\",\"nom\":\"ESTAÇÃO SÃO GABRIEL/TUPI\"},{\"cod\":\"3680\",\"sgl\":\"710\",\"nom\":\"ESTAÇÃO SÃO GABRIEL/PROVIDÊNCIA\"},{\"cod\":\"843\",\"sgl\":\"711\",\"nom\":\"ESTACAO SAO GABRIEL/SOLIMOES\"},{\"cod\":\"5709\",\"sgl\":\"712\",\"nom\":\"ESTAÇÃO PAMPULHA / SÃO BERNARDO\"},{\"cod\":\"846\",\"sgl\":\"713\",\"nom\":\"ESTACAO SAO GABRIEL/LAJEDO\"},{\"cod\":\"848\",\"sgl\":\"714\",\"nom\":\"ESTACAO SAO GABRIEL/CASAS POPULARES\"},{\"cod\":\"850\",\"sgl\":\"715\",\"nom\":\"ESTAÇÃO SAO GABRIEL / MONTE AZUL\"},{\"cod\":\"852\",\"sgl\":\"716\",\"nom\":\"ESTACAO SAO GABRIEL/NOVO AARAO REIS\"},{\"cod\":\"5612\",\"sgl\":\"717\",\"nom\":\"ESTAÇÃO PAMPULHA/CAMPO ALEGRE\"},{\"cod\":\"5615\",\"sgl\":\"718\",\"nom\":\"ESTAÇÃO PAMPULHA/PLANALTO\"},{\"cod\":\"5618\",\"sgl\":\"719\",\"nom\":\"ESTAÇÃO PAMPULHA/FLORAMAR\"},{\"cod\":\"3682\",\"sgl\":\"732\",\"nom\":\"ESTAÇÃO SÃO GABRIEL/TUPI-FELICIDADE\"},{\"cod\":\"3686\",\"sgl\":\"734\",\"nom\":\"ESTAÇÃO SÃO GABRIEL/ AARÃO REIS VIA MINASLÂNDIA\"},{\"cod\":\"3752\",\"sgl\":\"735\",\"nom\":\"ESTAÇÃO VILARINHO /  JULIANA   A\"},{\"cod\":\"3754\",\"sgl\":\"736\",\"nom\":\"ESTAÇÃO VILARINHO /  JULIANA   B\"},{\"cod\":\"3756\",\"sgl\":\"737\",\"nom\":\"EST.VILARINHO/JAQUELINE\"},{\"cod\":\"3744\",\"sgl\":\"738\",\"nom\":\"ESTAÇÃO VILARINHO / CONJ. ZILAH SPÓSITO\"},{\"cod\":\"3746\",\"sgl\":\"739\",\"nom\":\"EST.VILARINHO/JAQUELINE 2ª SEÇÃO-VIA FREI LEOPOLDO\"},{\"cod\":\"6759\",\"sgl\":\"740\",\"nom\":\"TUPI-MIRANTE\"},{\"cod\":\"564\",\"sgl\":\"8001A\",\"nom\":\"ANA LUCIA/BH SHOPPING\"},{\"cod\":\"1624\",\"sgl\":\"806\",\"nom\":\"ESTAÇÃO SÃO GABRIEL/VISTA DO SOL - VIA NAZARÉ\"},{\"cod\":\"1626\",\"sgl\":\"807\",\"nom\":\"ESTAÇÃO SÃO GABRIEL/RIBEIRO DE ABREU\"},{\"cod\":\"1628\",\"sgl\":\"808\",\"nom\":\"ESTAÇÃO SÃO GABRIEL/PAULO VI\"},{\"cod\":\"1630\",\"sgl\":\"809\",\"nom\":\"BELMONTE / ESTAÇÃO SÃO GABRIEL\"},{\"cod\":\"1632\",\"sgl\":\"810\",\"nom\":\"EST. SÃO GABRIEL/PARQUE BELMONTE -VIA DOM SILVÉRIO\"},{\"cod\":\"573\",\"sgl\":\"8101\",\"nom\":\"SANTA CRUZ/ALTO SANTA LUCIA\"},{\"cod\":\"575\",\"sgl\":\"8102\",\"nom\":\"UNIAO/CARMO SION\"},{\"cod\":\"578\",\"sgl\":\"8103\",\"nom\":\"NOVA FLORESTA/SANTA LUCIA\"},{\"cod\":\"584\",\"sgl\":\"8106\",\"nom\":\"SANTA CRUZ/BH SHOPPING VIA BELVEDERE\"},{\"cod\":\"745\",\"sgl\":\"8107\",\"nom\":\"CONCORDIA/SAO PEDRO\"},{\"cod\":\"587\",\"sgl\":\"8108\",\"nom\":\"CIDADE NOVA/SAVASSI\"},{\"cod\":\"1562\",\"sgl\":\"811\",\"nom\":\"ESTAÇÃO SÃO GABRIEL/VISTA DO SOL VIA PUC\"},{\"cod\":\"3688\",\"sgl\":\"812\",\"nom\":\"ESTAÇÃO SÃO GABRIEL / SÃO GABRIEL\"},{\"cod\":\"5537\",\"sgl\":\"813\",\"nom\":\"ESTAÇÃO SÃO GABRIEL/PAULO VI- VIA RIBEIRO DE ABREU\"},{\"cod\":\"5540\",\"sgl\":\"814\",\"nom\":\"ESTAÇÃO SÃO GABRIEL / JARDIM VITÓRIA\"},{\"cod\":\"5476\",\"sgl\":\"815\",\"nom\":\"ESTAÇÃO SÃO GABRIEL/CONJUNTO PAULO VI\"},{\"cod\":\"589\",\"sgl\":\"8150\",\"nom\":\"UNIAO/SERRA\"},{\"cod\":\"5285\",\"sgl\":\"8151\",\"nom\":\"EST. SÃO GABRIEL/BH SHOPPING VIA ANEL RODOVIARIO\"},{\"cod\":\"5281\",\"sgl\":\"82\",\"nom\":\"EST.S.GABRIEL/SAVASSI-VIA HOSPITAIS\"},{\"cod\":\"591\",\"sgl\":\"8203\",\"nom\":\"RENASCENCA/BURITIS\"},{\"cod\":\"593\",\"sgl\":\"8205\",\"nom\":\"MARIA GORETTI/NOVA GRANADA\"},{\"cod\":\"596\",\"sgl\":\"8207\",\"nom\":\"MARIA GORETTI/ESTRELA DALVA\"},{\"cod\":\"598\",\"sgl\":\"8208\",\"nom\":\"SANTA CRUZ / UNI-ESTORIL\"},{\"cod\":\"1642\",\"sgl\":\"821\",\"nom\":\"ESTAÇÃO JOSÉ CÂNDIDO / GOIANIA\"},{\"cod\":\"2194\",\"sgl\":\"822\",\"nom\":\"ESTAÇÃO JOSÉ CÂNDIDO / VILA MARIA\"},{\"cod\":\"3834\",\"sgl\":\"823\",\"nom\":\"ESTAÇÃO SÃO GABRIEL / BAIRRO VITÓRIA\"},{\"cod\":\"6038\",\"sgl\":\"825\",\"nom\":\"ESTAÇÃO SÃO GABRIEL/VITÓRIA II - VIA UPA NORDESTE\"},{\"cod\":\"6761\",\"sgl\":\"826\",\"nom\":\"MONTES CLAROS/RUA SÃO RÔMULO\"},{\"cod\":\"3694\",\"sgl\":\"832\",\"nom\":\"ESTAÇÃO SÃO GABRIEL / CAPITÃO EDUARDO\"},{\"cod\":\"819\",\"sgl\":\"8350\",\"nom\":\"EST.SAO GABRIEL/EST.BARREIRO\"},{\"cod\":\"3690\",\"sgl\":\"836\",\"nom\":\"ESTAÇÃO SÃO GABRIEL / RIBEIRO DE ABREU\"},{\"cod\":\"3692\",\"sgl\":\"837\",\"nom\":\"ESTAÇÃO SÃO GABRIEL / CONJ. RIBEIRO DE ABREU\"},{\"cod\":\"5283\",\"sgl\":\"83D\",\"nom\":\"EST.SÃO GABRIEL/CENTRO-DIRETA \"},{\"cod\":\"5396\",\"sgl\":\"83P\",\"nom\":\"EST.S.GABRIEL/CENTRO-PARADORA\"},{\"cod\":\"605\",\"sgl\":\"8401\",\"nom\":\"CACHOEIRINHA/SAO JOSE\"},{\"cod\":\"748\",\"sgl\":\"8405\",\"nom\":\"PALMARES/BELA VISTA\"},{\"cod\":\"5546\",\"sgl\":\"85\",\"nom\":\"EST.S.GABRIEL/CENTRO-VIA FLORESTA\"},{\"cod\":\"607\",\"sgl\":\"8501\",\"nom\":\"MARIA GORETTI/ENGENHO NOGUEIRA VIA OURO PRETO\"},{\"cod\":\"3678\",\"sgl\":\"8550\",\"nom\":\"EST.SÃO GABRIEL/ZOO-VIA EST.PAMP.\"},{\"cod\":\"6939\",\"sgl\":\"8551\",\"nom\":\"EST. SÃO GABRIEL/EST. UFMG VIA ANEL RODOVIÁRIO\"},{\"cod\":\"609\",\"sgl\":\"901\",\"nom\":\"CIRCULAR LESTE\"},{\"cod\":\"7178\",\"sgl\":\"902\",\"nom\":\"TAQUARIL/CASTANHEIRAS\"},{\"cod\":\"771\",\"sgl\":\"9030\",\"nom\":\"CASTANHEIRAS/CENTRO\"},{\"cod\":\"750\",\"sgl\":\"9031\",\"nom\":\"NOSSA SENHORA DE FATIMA/CENTRO\"},{\"cod\":\"611\",\"sgl\":\"9032\",\"nom\":\"GRANJA DE FREITAS VIA ALTO VERA CRUZ\"},{\"cod\":\"4916\",\"sgl\":\"9033\",\"nom\":\"CENTRO / ESTADIOS\"},{\"cod\":\"613\",\"sgl\":\"9101\",\"nom\":\"ALTO VERA CRUZ/SÃO BENTO\"},{\"cod\":\"616\",\"sgl\":\"9103\",\"nom\":\"SANTA TERESA/SANTO ANTONIO\"},{\"cod\":\"618\",\"sgl\":\"9104\",\"nom\":\"SAGRADA FAMILIA/LUXEMBURGO\"},{\"cod\":\"621\",\"sgl\":\"9105\",\"nom\":\"NOVA VISTA/SION\"},{\"cod\":\"623\",\"sgl\":\"9106\",\"nom\":\"SAGRADA FAMILIA/SERRA\"},{\"cod\":\"626\",\"sgl\":\"9201\",\"nom\":\"BALEIA/NOVA GRANADA\"},{\"cod\":\"628\",\"sgl\":\"9202\",\"nom\":\"POMPEIA/JARDIM AMERICA\"},{\"cod\":\"635\",\"sgl\":\"9204\",\"nom\":\"SANTA EFIGENIA/ESTORIL\"},{\"cod\":\"638\",\"sgl\":\"9205\",\"nom\":\"NOVA VISTA/NOVA CINTRA\"},{\"cod\":\"642\",\"sgl\":\"9206\",\"nom\":\"VERA CRUZ/BURITIS\"},{\"cod\":\"647\",\"sgl\":\"9208\",\"nom\":\"TAQUARIL/CONJUNTO SANTA MARIA\"},{\"cod\":\"650\",\"sgl\":\"9209\",\"nom\":\"SAGRADA FAMILIA/GUTIERREZ\"},{\"cod\":\"652\",\"sgl\":\"9210\",\"nom\":\"SANTA TEREZA/PRADO\"},{\"cod\":\"654\",\"sgl\":\"9211\",\"nom\":\"CAETANO FURQUIM/HAVAI\"},{\"cod\":\"886\",\"sgl\":\"9214\",\"nom\":\"CAETANO FURQUIM/ HAVAI - VIA ALTO HAVAI\"},{\"cod\":\"659\",\"sgl\":\"9250\",\"nom\":\"CAETANO FURQUIM/NOVA CINTRA VIA SAVASSI\"},{\"cod\":\"752\",\"sgl\":\"9402\",\"nom\":\"SANTA INES/SANTO ANDRE\"},{\"cod\":\"663\",\"sgl\":\"9403\",\"nom\":\"PARAISO/CAICARA\"},{\"cod\":\"666\",\"sgl\":\"9404\",\"nom\":\"SAO LUCAS/NOVA ESPERANCA\"},{\"cod\":\"668\",\"sgl\":\"9405\",\"nom\":\"INSTITUTO AGRONOMICO/MONSENHOR MESSIAS\"},{\"cod\":\"670\",\"sgl\":\"9407\",\"nom\":\"ALTO VERA CRUZ/DOM BOSCO\"},{\"cod\":\"673\",\"sgl\":\"9408\",\"nom\":\"SANTA EFIGENIA/PADRE EUSTAQUIO\"},{\"cod\":\"676\",\"sgl\":\"9410\",\"nom\":\"SAGRADA FAMILIA/CORACAO EUCARISTICO\"},{\"cod\":\"678\",\"sgl\":\"9411\",\"nom\":\"CASA BRANCA/SAO JOSE\"},{\"cod\":\"680\",\"sgl\":\"9412\",\"nom\":\"CONJ.TAQUARIL/PADRE EUSTAQUIO\"},{\"cod\":\"683\",\"sgl\":\"9414\",\"nom\":\"SANTA INÊS / JOAO PINHEIRO\"},{\"cod\":\"6739\",\"sgl\":\"9415\",\"nom\":\"NOSSA SENHORA DE FÁTIMA/BONFIM\"},{\"cod\":\"685\",\"sgl\":\"9501\",\"nom\":\"SAO LUCAS/JARAGUA\"},{\"cod\":\"690\",\"sgl\":\"9502\",\"nom\":\"SAO GERALDO/SAO FRANCISCO VIA ESPLANADA\"},{\"cod\":\"694\",\"sgl\":\"9503\",\"nom\":\"TAQUARIL/JARAGUA\"},{\"cod\":\"697\",\"sgl\":\"9550\",\"nom\":\"CASA BRANCA/SAO FRANCISCO VIA EST. JOSE CANDIDO\"},{\"cod\":\"699\",\"sgl\":\"9801\",\"nom\":\"SAUDADE/SANTA CRUZ\"},{\"cod\":\"702\",\"sgl\":\"9803\",\"nom\":\"TAQUARIL/PALMARES\"},{\"cod\":\"956\",\"sgl\":\"9805\",\"nom\":\"SANTA EFIGÊNIA / RENASCENÇA\"},{\"cod\":\"1133\",\"sgl\":\"E061\",\"nom\":\"SERVIÇO ESPECIAL VIAÇÃO PARAENSE\"},{\"cod\":\"709\",\"sgl\":\"SC01A\",\"nom\":\"CONTORNO A\"},{\"cod\":\"711\",\"sgl\":\"SC01B\",\"nom\":\"CONTORNO B\"},{\"cod\":\"713\",\"sgl\":\"SC01R\",\"nom\":\"CONTORNO/PRACA MILTON CAMPOS\"},{\"cod\":\"715\",\"sgl\":\"SC02A\",\"nom\":\"PRACA 7/SAVASSI VIA PCA DA LIBERDADE - SANTA CASA\"},{\"cod\":\"717\",\"sgl\":\"SC02B\",\"nom\":\"SAVASSI/PRACA 7 VIA SANTA CASA - PCA DA LIBERDADE\"},{\"cod\":\"720\",\"sgl\":\"SC03A\",\"nom\":\"HOSPITAL FELICIO ROCHO/HOSPITAL MILITAR A\"},{\"cod\":\"722\",\"sgl\":\"SC03B\",\"nom\":\"HOSPITAL FELICIO ROCHO/HOSPITAL MILITAR B\"},{\"cod\":\"724\",\"sgl\":\"SC04A\",\"nom\":\"SANTA CASA/SAVASSI/RODOVIARIA A\"},{\"cod\":\"726\",\"sgl\":\"SC04B\",\"nom\":\"SANTA CASA/RODOVIARIA/SAVASSI B\"},{\"cod\":\"4818\",\"sgl\":\"SE02\",\"nom\":\"BURITIS / SAVASSI\"}],\"subLinhas\":[]}))\n",
       "        });\n",
       "        </script>"
      ],
      "text/plain": [
       "<IPython.core.display.HTML object>"
      ]
     },
     "metadata": {},
     "output_type": "display_data"
    }
   ],
   "source": [
    "linhas = requests.get(pbh_link + 'buscarLinhas/retornoJSONListaLinhas')\n",
    "linhas = linhas.content.decode(\"utf-8\")\n",
    "linhas = linhas.replace('retornoJSONListaLinhas(', '')[:-1]\n",
    "linhas = linhas.replace('[\"', '[')\n",
    "linhas = linhas.replace('\"]', ']')\n",
    "linhas = linhas.replace(\"'\", '\"')\n",
    "\n",
    "RenderJSON(linhas)"
   ]
  },
  {
   "cell_type": "code",
   "execution_count": 27,
   "metadata": {},
   "outputs": [
    {
     "data": {
      "text/plain": [
       "'5776'"
      ]
     },
     "execution_count": 27,
     "metadata": {},
     "output_type": "execute_result"
    }
   ],
   "source": [
    "def get_code(num):\n",
    "    num = str(num)\n",
    "    data = decode(linhas)\n",
    "    \n",
    "    for i in range(0, len(data.linhas)):\n",
    "        if data.linhas[i].sgl == num:\n",
    "            return data.linhas[i].cod\n",
    "    return(\"not found\")\n",
    "\n",
    "get_code(68)"
   ]
  },
  {
   "cell_type": "code",
   "execution_count": 29,
   "metadata": {
    "scrolled": false
   },
   "outputs": [
    {
     "data": {
      "text/plain": [
       "[X(cod=12178, end='Estacao Vilarinho', siu='', sent='ESTAÇÃO VILARINHO', temVeic=False),\n",
       " X(cod=14401, end='ESTACAO CRISTIANO GUIMARAES', siu='12277', sent='ESTAÇÃO VILARINHO', temVeic=False),\n",
       " X(cod=14399, end='ESTACAO PLANALTO', siu='12275', sent='ESTAÇÃO VILARINHO', temVeic=False),\n",
       " X(cod=14395, end='ESTACAO SAO JOAO BATISTA', siu='10812', sent='ESTAÇÃO VILARINHO', temVeic=False),\n",
       " X(cod=14393, end='ESTACAO LAGOA DO NADO', siu='12271', sent='ESTAÇÃO VILARINHO', temVeic=False),\n",
       " X(cod=14397, end='ESTACAO MONTESE', siu='12269', sent='ESTAÇÃO VILARINHO', temVeic=False),\n",
       " X(cod=14391, end='ESTACAO MONTE CASTELO', siu='12267', sent='ESTAÇÃO VILARINHO', temVeic=False),\n",
       " X(cod=12489, end='ESTACAO SANTA ROSA', siu='12232', sent='ESTAÇÃO VILARINHO', temVeic=False),\n",
       " X(cod=12495, end='ESTACAO MINEIRAO', siu='12222', sent='ESTAÇÃO VILARINHO', temVeic=False),\n",
       " X(cod=12499, end='ESTACAO UFMG', siu='12216', sent='ESTAÇÃO VILARINHO', temVeic=False),\n",
       " X(cod=12503, end='ESTACAO LIBERDADE', siu='12210', sent='ESTAÇÃO VILARINHO', temVeic=False),\n",
       " X(cod=12505, end='ESTACAO COLEGIO MILITAR', siu='12207', sent='ESTAÇÃO VILARINHO', temVeic=False),\n",
       " X(cod=12511, end='ESTACAO SAO FRANCISCO', siu='12199', sent='ESTAÇÃO VILARINHO', temVeic=False),\n",
       " X(cod=12516, end='ESTACAO CACHOEIRINHA', siu='12197', sent='ESTAÇÃO VILARINHO', temVeic=False),\n",
       " X(cod=12518, end='ESTACAO AMERICO VESPUCIO', siu='12190', sent='ESTAÇÃO VILARINHO', temVeic=False),\n",
       " X(cod=12526, end='ESTACAO APARECIDA', siu='12182', sent='ESTAÇÃO VILARINHO', temVeic=False),\n",
       " X(cod=12541, end='ESTACAO OPERARIOS', siu='12176', sent='ESTAÇÃO VILARINHO', temVeic=False),\n",
       " X(cod=12532, end='ESTACAO HOSPITAL BELO HORIZONTE', siu='12170', sent='ESTAÇÃO VILARINHO', temVeic=False),\n",
       " X(cod=12533, end='ESTACAO IAPI', siu='12168', sent='ESTAÇÃO VILARINHO', temVeic=False),\n",
       " X(cod=12536, end='ESTACAO ODILON BEHRENS', siu='12158', sent='ESTAÇÃO VILARINHO', temVeic=False),\n",
       " X(cod=12546, end='ESTACAO SENAI', siu='12154', sent='ESTAÇÃO VILARINHO', temVeic=False),\n",
       " X(cod=12545, end='ESTACAO SENAI', siu='12155', sent='ESTAÇÃO VILARINHO', temVeic=False),\n",
       " X(cod=12539, end='ESTACAO ODILON BEHRENS', siu='12159', sent='ESTAÇÃO VILARINHO', temVeic=False),\n",
       " X(cod=12527, end='ESTACAO IAPI', siu='12169', sent='ESTAÇÃO VILARINHO', temVeic=False),\n",
       " X(cod=12530, end='ESTACAO HOSPITAL BELO HORIZONTE', siu='12171', sent='ESTAÇÃO VILARINHO', temVeic=False),\n",
       " X(cod=12540, end='ESTACAO OPERARIOS', siu='12177', sent='ESTAÇÃO VILARINHO', temVeic=False),\n",
       " X(cod=12525, end='ESTACAO APARECIDA', siu='12183', sent='ESTAÇÃO VILARINHO', temVeic=False),\n",
       " X(cod=12517, end='ESTACAO AMERICO VESPUCIO', siu='12191', sent='ESTAÇÃO VILARINHO', temVeic=False),\n",
       " X(cod=12515, end='ESTACAO CACHOEIRINHA', siu='12198', sent='ESTAÇÃO VILARINHO', temVeic=False),\n",
       " X(cod=12510, end='ESTACAO SAO FRANCISCO', siu='12200', sent='ESTAÇÃO VILARINHO', temVeic=False),\n",
       " X(cod=12504, end='ESTACAO COLEGIO MILITAR', siu='12208', sent='ESTAÇÃO VILARINHO', temVeic=False),\n",
       " X(cod=12502, end='ESTACAO LIBERDADE', siu='12211', sent='ESTAÇÃO VILARINHO', temVeic=False),\n",
       " X(cod=12498, end='ESTACAO UFMG', siu='12217', sent='ESTAÇÃO VILARINHO', temVeic=False),\n",
       " X(cod=12494, end='ESTACAO MINEIRAO', siu='12223', sent='ESTAÇÃO VILARINHO', temVeic=False),\n",
       " X(cod=12488, end='ESTACAO SANTA ROSA', siu='12233', sent='ESTAÇÃO VILARINHO', temVeic=False),\n",
       " X(cod=14390, end='ESTACAO MONTE CASTELO', siu='12266', sent='ESTAÇÃO VILARINHO', temVeic=False),\n",
       " X(cod=14396, end='ESTACAO MONTESE', siu='12268', sent='ESTAÇÃO VILARINHO', temVeic=False),\n",
       " X(cod=14392, end='ESTACAO LAGOA DO NADO', siu='12270', sent='ESTAÇÃO VILARINHO', temVeic=False),\n",
       " X(cod=14394, end='ESTACAO SAO JOAO BATISTA', siu='12272', sent='ESTAÇÃO VILARINHO', temVeic=False),\n",
       " X(cod=14398, end='ESTACAO PLANALTO', siu='12274', sent='ESTAÇÃO VILARINHO', temVeic=False),\n",
       " X(cod=14400, end='ESTACAO CRISTIANO GUIMARAES', siu='12276', sent='ESTAÇÃO VILARINHO', temVeic=False),\n",
       " X(cod=12176, end='Estacao Vilarinho', siu='', sent='ESTAÇÃO VILARINHO', temVeic=False)]"
      ]
     },
     "execution_count": 29,
     "metadata": {},
     "output_type": "execute_result"
    }
   ],
   "source": [
    "def estacoes(linha):\n",
    "    cod = get_code(linha)\n",
    "    data = requests.get(pbh_link + 'buscarParadasPorLinha/'+str(cod)+'/0/retornoJSON')\n",
    "    data = data.content.decode(\"utf-8\").replace('retornoJSON(', '')[:-1]\n",
    "    RenderJSON(data)\n",
    "    \n",
    "    data = decode(data)\n",
    "    return data.paradas\n",
    "\n",
    "estacoes(68)"
   ]
  },
  {
   "cell_type": "code",
   "execution_count": null,
   "metadata": {},
   "outputs": [],
   "source": []
  }
 ],
 "metadata": {
  "kernelspec": {
   "display_name": "Python 3",
   "language": "python",
   "name": "python3"
  },
  "language_info": {
   "codemirror_mode": {
    "name": "ipython",
    "version": 3
   },
   "file_extension": ".py",
   "mimetype": "text/x-python",
   "name": "python",
   "nbconvert_exporter": "python",
   "pygments_lexer": "ipython3",
   "version": "3.7.3"
  }
 },
 "nbformat": 4,
 "nbformat_minor": 2
}
